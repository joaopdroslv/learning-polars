{
 "cells": [
  {
   "cell_type": "code",
   "execution_count": null,
   "metadata": {},
   "outputs": [],
   "source": [
    "!pip install polars"
   ]
  },
  {
   "cell_type": "code",
   "execution_count": 3,
   "metadata": {},
   "outputs": [],
   "source": [
    "import polars as pl"
   ]
  },
  {
   "cell_type": "markdown",
   "metadata": {},
   "source": [
    "### 1. Polars Data Types\n",
    "\n",
    "Polars supports a variety of data types for storing and processing different kinds of data efficiently.\n",
    "\n",
    "**Basic Data Types:**\n",
    "- Integer Types: `Int8`, `Int16`, `Int32`, `Int64`\n",
    "- Unsigned Integer Types: `UInt8`, `UInt16`, `UInt32`, `UInt64`\n",
    "- Floating Point Types: `Float32`, `Float64`\n",
    "- Boolean Type: `Boolean`\n",
    "- String Type: `Utf8` (Unicode string)\n",
    "- Datetime Types: `Datetime`, `Date`, `Time`\n",
    "- Categorical Type: `Categorical` (to save memory in case of repeated string values)\n",
    "- List Type: `List` (used to store arrays inside a single column)\n",
    "- Object Type: `Object` (used for any Python objects)\n",
    "\n",
    "**Example: Creating a DataFrame with Various Types**"
   ]
  },
  {
   "cell_type": "code",
   "execution_count": 5,
   "metadata": {},
   "outputs": [
    {
     "name": "stdout",
     "output_type": "stream",
     "text": [
      "shape: (3, 5)\n",
      "┌──────────┬────────┬──────────┬─────────┬─────────────────────┐\n",
      "│ integers ┆ floats ┆ booleans ┆ strings ┆ dates               │\n",
      "│ ---      ┆ ---    ┆ ---      ┆ ---     ┆ ---                 │\n",
      "│ i64      ┆ f64    ┆ bool     ┆ str     ┆ datetime[μs]        │\n",
      "╞══════════╪════════╪══════════╪═════════╪═════════════════════╡\n",
      "│ 1        ┆ 1.1    ┆ true     ┆ apple   ┆ 2023-01-01 00:00:00 │\n",
      "│ 2        ┆ 2.2    ┆ false    ┆ banana  ┆ 2023-01-02 00:00:00 │\n",
      "│ 3        ┆ 3.3    ┆ true     ┆ cherry  ┆ 2023-01-03 00:00:00 │\n",
      "└──────────┴────────┴──────────┴─────────┴─────────────────────┘\n"
     ]
    }
   ],
   "source": [
    "import datetime as dt\n",
    "\n",
    "df = pl.DataFrame({\n",
    "    'integers': [1, 2, 3],\n",
    "    'floats': [1.1, 2.2, 3.3],\n",
    "    'booleans': [True, False, True],\n",
    "    'strings': ['apple', 'banana', 'cherry'],\n",
    "    'dates': [dt.datetime(2023, 1, 1), dt.datetime(2023, 1, 2), dt.datetime(2023, 1, 3)]\n",
    "})\n",
    "\n",
    "print(df)"
   ]
  },
  {
   "cell_type": "markdown",
   "metadata": {},
   "source": [
    "### 2. Type Detection and Checking\n",
    "\n",
    "You can check the types of columns in a DataFrame using `.dtype` or `.dtypes`.\n",
    "\n",
    "**Example: Checking Column Data Types**"
   ]
  },
  {
   "cell_type": "code",
   "execution_count": 6,
   "metadata": {},
   "outputs": [
    {
     "name": "stdout",
     "output_type": "stream",
     "text": [
      "[Int64, Float64, String]\n"
     ]
    }
   ],
   "source": [
    "df = pl.DataFrame({\n",
    "    'ints': [1, 2, 3],\n",
    "    'floats': [1.1, 2.2, 3.3],\n",
    "    'strings': ['a', 'b', 'c']\n",
    "})\n",
    "\n",
    "# Get column types\n",
    "print(df.dtypes)"
   ]
  },
  {
   "cell_type": "markdown",
   "metadata": {},
   "source": [
    "### 3. Type Conversion in Polars\n",
    "\n",
    "You may need to convert data types for various reasons, such as:\n",
    "\n",
    "- To ensure compatibility when performing operations.\n",
    "- To optimize memory usage.\n",
    "- To manipulate date, time, or categorical data more efficiently.\n",
    "\n",
    "**Casting Columns to Different Types**\n",
    "\n",
    "Polars allows you to cast or convert a column from one type to another using the `.cast()` method.\n",
    "\n",
    "**Example: Converting Data Types**"
   ]
  },
  {
   "cell_type": "code",
   "execution_count": 9,
   "metadata": {},
   "outputs": [
    {
     "name": "stdout",
     "output_type": "stream",
     "text": [
      "Column Type: String\n",
      "shape: (3, 2)\n",
      "┌────────────────────┬─────────────────────┐\n",
      "│ numbers_as_strings ┆ numbers_as_integers │\n",
      "│ ---                ┆ ---                 │\n",
      "│ str                ┆ i64                 │\n",
      "╞════════════════════╪═════════════════════╡\n",
      "│ 1                  ┆ 1                   │\n",
      "│ 2                  ┆ 2                   │\n",
      "│ 3                  ┆ 3                   │\n",
      "└────────────────────┴─────────────────────┘\n"
     ]
    }
   ],
   "source": [
    "df = pl.DataFrame({\n",
    "    'numbers_as_strings': ['1', '2', '3']\n",
    "})\n",
    "\n",
    "print('Column Type: ' + str(df['numbers_as_strings'].dtype))\n",
    "\n",
    "# Cast the string column to integer type\n",
    "df = df.with_columns(\n",
    "    pl.col('numbers_as_strings').cast(pl.Int64).alias('numbers_as_integers')\n",
    ")\n",
    "\n",
    "print(df)"
   ]
  },
  {
   "cell_type": "code",
   "execution_count": 10,
   "metadata": {},
   "outputs": [
    {
     "name": "stdout",
     "output_type": "stream",
     "text": [
      "[Date, Time, Datetime(time_unit='us', time_zone=None), Int8, Int8, Int32, Int8, Int8]\n",
      "shape: (3, 8)\n",
      "┌────────────┬────────────┬─────────────────────┬─────┬───────┬──────┬──────┬────────┐\n",
      "│ event_date ┆ event_time ┆ event_datetime      ┆ day ┆ month ┆ year ┆ hour ┆ minute │\n",
      "│ ---        ┆ ---        ┆ ---                 ┆ --- ┆ ---   ┆ ---  ┆ ---  ┆ ---    │\n",
      "│ date       ┆ time       ┆ datetime[μs]        ┆ i8  ┆ i8    ┆ i32  ┆ i8   ┆ i8     │\n",
      "╞════════════╪════════════╪═════════════════════╪═════╪═══════╪══════╪══════╪════════╡\n",
      "│ 2023-01-01 ┆ 14:30:00   ┆ 2023-01-01 14:30:00 ┆ 1   ┆ 1     ┆ 2023 ┆ 14   ┆ 30     │\n",
      "│ 2023-02-01 ┆ 16:45:00   ┆ 2023-02-01 16:45:00 ┆ 1   ┆ 2     ┆ 2023 ┆ 16   ┆ 45     │\n",
      "│ 2023-03-01 ┆ 09:00:00   ┆ 2023-03-01 09:00:00 ┆ 1   ┆ 3     ┆ 2023 ┆ 9    ┆ 0      │\n",
      "└────────────┴────────────┴─────────────────────┴─────┴───────┴──────┴──────┴────────┘\n",
      "[Date, Time, Datetime(time_unit='us', time_zone=None), Int8, Int8, Int32, Int8, Int8]\n",
      "shape: (3, 8)\n",
      "┌────────────┬────────────┬─────────────────────┬─────┬───────┬──────┬──────┬────────┐\n",
      "│ event_date ┆ event_time ┆ event_datetime      ┆ day ┆ month ┆ year ┆ hour ┆ minute │\n",
      "│ ---        ┆ ---        ┆ ---                 ┆ --- ┆ ---   ┆ ---  ┆ ---  ┆ ---    │\n",
      "│ date       ┆ time       ┆ datetime[μs]        ┆ i8  ┆ i8    ┆ i32  ┆ i8   ┆ i8     │\n",
      "╞════════════╪════════════╪═════════════════════╪═════╪═══════╪══════╪══════╪════════╡\n",
      "│ 2023-01-01 ┆ 14:30:00   ┆ 2023-01-01 14:30:00 ┆ 1   ┆ 1     ┆ 2023 ┆ 14   ┆ 30     │\n",
      "│ 2023-02-01 ┆ 16:45:00   ┆ 2023-02-01 16:45:00 ┆ 1   ┆ 2     ┆ 2023 ┆ 16   ┆ 45     │\n",
      "│ 2023-03-01 ┆ 09:00:00   ┆ 2023-03-01 09:00:00 ┆ 1   ┆ 3     ┆ 2023 ┆ 9    ┆ 0      │\n",
      "└────────────┴────────────┴─────────────────────┴─────┴───────┴──────┴──────┴────────┘\n"
     ]
    }
   ],
   "source": [
    "import datetime as dt\n",
    "\n",
    "# A dataframe using datetime\n",
    "df_using_datetime = pl.DataFrame({\n",
    "    'event_date': [dt.date(2023, 1, 1), dt.date(2023, 2, 1), dt.date(2023, 3, 1)],  # Date Type\n",
    "    'event_time': [dt.time(14, 30), dt.time(16, 45), dt.time(9, 0)],  # Time Type\n",
    "    'event_datetime': [\n",
    "        dt.datetime(2023, 1, 1, 14, 30),\n",
    "        dt.datetime(2023, 2, 1, 16, 45),\n",
    "        dt.datetime(2023, 3, 1, 9, 0)\n",
    "    ]  # Datetime Type\n",
    "})\n",
    "\n",
    "# The extraction works because it is in the correct format\n",
    "df_using_datetime = df_using_datetime.with_columns(\n",
    "    pl.col('event_date').dt.day().alias('day'),\n",
    "    pl.col('event_date').dt.month().alias('month'),\n",
    "    pl.col('event_date').dt.year().alias('year'),\n",
    "    pl.col('event_time').dt.hour().alias('hour'),\n",
    "    pl.col('event_time').dt.minute().alias('minute')\n",
    ")\n",
    "print(df_using_datetime.dtypes)\n",
    "print(df_using_datetime)\n",
    "\n",
    "# ----------\n",
    "\n",
    "# A dataframe using strings\n",
    "df_using_strings = pl.DataFrame({\n",
    "    'event_date': ['2023-01-01', '2023-02-01', '2023-03-01'],\n",
    "    'event_time': ['14:30:00', '16:45:00', '09:00:00'],\n",
    "    'event_datetime': [\n",
    "        '2023-01-01 14:30:00',\n",
    "        '2023-02-01 16:45:00',\n",
    "        '2023-03-01 09:00:00',\n",
    "    ]  # Datetime Type\n",
    "})\n",
    "\n",
    "# It's necessary to convert\n",
    "df_using_strings = df_using_strings.with_columns(\n",
    "    pl.col('event_date').str.to_date('%Y-%m-%d'),\n",
    "    pl.col('event_time').str.to_time('%H:%M:%S'),\n",
    "    pl.col('event_datetime').str.to_datetime('%Y-%m-%d %H:%M:%S'),\n",
    ")\n",
    "\n",
    "# The extraction works because now, after the conversion, it is in the correct format\n",
    "df_using_strings = df_using_strings.with_columns(\n",
    "    pl.col('event_date').dt.day().alias('day'),\n",
    "    pl.col('event_date').dt.month().alias('month'),\n",
    "    pl.col('event_date').dt.year().alias('year'),\n",
    "    pl.col('event_time').dt.hour().alias('hour'),\n",
    "    pl.col('event_time').dt.minute().alias('minute')\n",
    ")\n",
    "print(df_using_strings.dtypes)\n",
    "print(df_using_strings)"
   ]
  }
 ],
 "metadata": {
  "kernelspec": {
   "display_name": ".venv",
   "language": "python",
   "name": "python3"
  },
  "language_info": {
   "codemirror_mode": {
    "name": "ipython",
    "version": 3
   },
   "file_extension": ".py",
   "mimetype": "text/x-python",
   "name": "python",
   "nbconvert_exporter": "python",
   "pygments_lexer": "ipython3",
   "version": "3.12.8"
  }
 },
 "nbformat": 4,
 "nbformat_minor": 2
}
