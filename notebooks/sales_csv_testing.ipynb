{
 "cells": [
  {
   "cell_type": "code",
   "execution_count": null,
   "metadata": {},
   "outputs": [],
   "source": [
    "!pip install polars"
   ]
  },
  {
   "cell_type": "code",
   "execution_count": 2,
   "metadata": {},
   "outputs": [],
   "source": [
    "import polars as pl\n",
    "import numpy as np"
   ]
  },
  {
   "cell_type": "markdown",
   "metadata": {},
   "source": [
    "### Reading our dataset (CSV file)"
   ]
  },
  {
   "cell_type": "code",
   "execution_count": 3,
   "metadata": {},
   "outputs": [],
   "source": [
    "df = pl.read_csv('../sales.csv')"
   ]
  },
  {
   "cell_type": "markdown",
   "metadata": {},
   "source": [
    "### Basic Operations"
   ]
  },
  {
   "cell_type": "code",
   "execution_count": 4,
   "metadata": {},
   "outputs": [
    {
     "data": {
      "text/plain": [
       "(10000000, 17)"
      ]
     },
     "execution_count": 4,
     "metadata": {},
     "output_type": "execute_result"
    }
   ],
   "source": [
    "# (rows amount, columns amount)\n",
    "df.shape  "
   ]
  },
  {
   "cell_type": "code",
   "execution_count": 5,
   "metadata": {},
   "outputs": [
    {
     "data": {
      "text/html": [
       "<div><style>\n",
       ".dataframe > thead > tr,\n",
       ".dataframe > tbody > tr {\n",
       "  text-align: right;\n",
       "  white-space: pre-wrap;\n",
       "}\n",
       "</style>\n",
       "<small>shape: (5, 17)</small><table border=\"1\" class=\"dataframe\"><thead><tr><th>product_name</th><th>buyer_name</th><th>buyer_sex</th><th>buyer_age</th><th>buyer_address</th><th>buyer_contact</th><th>seller_name</th><th>seller_sex</th><th>seller_age</th><th>seller_address</th><th>seller_contact</th><th>sale_date</th><th>units_sold</th><th>unit_price</th><th>payment_method</th><th>discount</th><th>discount_perc</th></tr><tr><td>str</td><td>str</td><td>str</td><td>i64</td><td>str</td><td>str</td><td>str</td><td>str</td><td>i64</td><td>str</td><td>str</td><td>str</td><td>i64</td><td>f64</td><td>str</td><td>bool</td><td>i64</td></tr></thead><tbody><tr><td>&quot;can&quot;</td><td>&quot;Joshua Williams&quot;</td><td>&quot;M&quot;</td><td>22</td><td>&quot;4378 Kimberly Place\n",
       "Walkerberg…</td><td>&quot;jay17@gmail.com&quot;</td><td>&quot;Felicia Johnson&quot;</td><td>&quot;F&quot;</td><td>40</td><td>&quot;31241 Priscilla Island\n",
       "Martinf…</td><td>&quot;fletcherkenneth@gmail.com&quot;</td><td>&quot;2013-11-24&quot;</td><td>2</td><td>347.2</td><td>&quot;Google Pay&quot;</td><td>false</td><td>0</td></tr><tr><td>&quot;class&quot;</td><td>&quot;Manuel Goodwin&quot;</td><td>&quot;M&quot;</td><td>31</td><td>&quot;232 Destiny Hill Apt. 370\n",
       "East…</td><td>&quot;vlong@gmail.com&quot;</td><td>&quot;Danielle Caldwell&quot;</td><td>&quot;F&quot;</td><td>50</td><td>&quot;PSC 1210, Box 4631\n",
       "APO AE 2740…</td><td>&quot;awilliams@yahoo.com&quot;</td><td>&quot;2020-08-16&quot;</td><td>5</td><td>257.44</td><td>&quot;Cash&quot;</td><td>false</td><td>0</td></tr><tr><td>&quot;talk&quot;</td><td>&quot;James Forbes&quot;</td><td>&quot;M&quot;</td><td>65</td><td>&quot;1341 Baldwin Flat Suite 792\n",
       "We…</td><td>&quot;dford@yahoo.com&quot;</td><td>&quot;Tyler Johnson&quot;</td><td>&quot;M&quot;</td><td>23</td><td>&quot;7060 Jenny Track\n",
       "West Karen, I…</td><td>&quot;mcdonaldleslie@gmail.com&quot;</td><td>&quot;2020-03-09&quot;</td><td>4</td><td>40.1</td><td>&quot;Bank Transfer&quot;</td><td>false</td><td>0</td></tr><tr><td>&quot;better&quot;</td><td>&quot;Laura Lopez&quot;</td><td>&quot;F&quot;</td><td>62</td><td>&quot;5748 Shannon Parkways\n",
       "North St…</td><td>&quot;hardyjeffery@yahoo.com&quot;</td><td>&quot;Evan Rice&quot;</td><td>&quot;M&quot;</td><td>30</td><td>&quot;274 Marie Meadows Apt. 086\n",
       "Nor…</td><td>&quot;tiffany46@hotmail.com&quot;</td><td>&quot;2017-08-20&quot;</td><td>8</td><td>606.33</td><td>&quot;Pix&quot;</td><td>false</td><td>0</td></tr><tr><td>&quot;include&quot;</td><td>&quot;Tiffany Christensen&quot;</td><td>&quot;F&quot;</td><td>39</td><td>&quot;8701 Amy Mews Apt. 116\n",
       "Melinda…</td><td>&quot;rebeccastone@yahoo.com&quot;</td><td>&quot;Stephanie Boone&quot;</td><td>&quot;F&quot;</td><td>27</td><td>&quot;438 Seth Port Suite 907\n",
       "Lake C…</td><td>&quot;holmesjames@yahoo.com&quot;</td><td>&quot;2017-07-24&quot;</td><td>2</td><td>466.31</td><td>&quot;PayPal&quot;</td><td>false</td><td>0</td></tr></tbody></table></div>"
      ],
      "text/plain": [
       "shape: (5, 17)\n",
       "┌───────────┬───────────┬───────────┬───────────┬───┬───────────┬───────────┬──────────┬───────────┐\n",
       "│ product_n ┆ buyer_nam ┆ buyer_sex ┆ buyer_age ┆ … ┆ unit_pric ┆ payment_m ┆ discount ┆ discount_ │\n",
       "│ ame       ┆ e         ┆ ---       ┆ ---       ┆   ┆ e         ┆ ethod     ┆ ---      ┆ perc      │\n",
       "│ ---       ┆ ---       ┆ str       ┆ i64       ┆   ┆ ---       ┆ ---       ┆ bool     ┆ ---       │\n",
       "│ str       ┆ str       ┆           ┆           ┆   ┆ f64       ┆ str       ┆          ┆ i64       │\n",
       "╞═══════════╪═══════════╪═══════════╪═══════════╪═══╪═══════════╪═══════════╪══════════╪═══════════╡\n",
       "│ can       ┆ Joshua    ┆ M         ┆ 22        ┆ … ┆ 347.2     ┆ Google    ┆ false    ┆ 0         │\n",
       "│           ┆ Williams  ┆           ┆           ┆   ┆           ┆ Pay       ┆          ┆           │\n",
       "│ class     ┆ Manuel    ┆ M         ┆ 31        ┆ … ┆ 257.44    ┆ Cash      ┆ false    ┆ 0         │\n",
       "│           ┆ Goodwin   ┆           ┆           ┆   ┆           ┆           ┆          ┆           │\n",
       "│ talk      ┆ James     ┆ M         ┆ 65        ┆ … ┆ 40.1      ┆ Bank      ┆ false    ┆ 0         │\n",
       "│           ┆ Forbes    ┆           ┆           ┆   ┆           ┆ Transfer  ┆          ┆           │\n",
       "│ better    ┆ Laura     ┆ F         ┆ 62        ┆ … ┆ 606.33    ┆ Pix       ┆ false    ┆ 0         │\n",
       "│           ┆ Lopez     ┆           ┆           ┆   ┆           ┆           ┆          ┆           │\n",
       "│ include   ┆ Tiffany   ┆ F         ┆ 39        ┆ … ┆ 466.31    ┆ PayPal    ┆ false    ┆ 0         │\n",
       "│           ┆ Christens ┆           ┆           ┆   ┆           ┆           ┆          ┆           │\n",
       "│           ┆ en        ┆           ┆           ┆   ┆           ┆           ┆          ┆           │\n",
       "└───────────┴───────────┴───────────┴───────────┴───┴───────────┴───────────┴──────────┴───────────┘"
      ]
     },
     "execution_count": 5,
     "metadata": {},
     "output_type": "execute_result"
    }
   ],
   "source": [
    "# Prints the header, column types and the first five rows\n",
    "df.head()  "
   ]
  },
  {
   "cell_type": "code",
   "execution_count": 6,
   "metadata": {},
   "outputs": [
    {
     "data": {
      "text/plain": [
       "[String,\n",
       " String,\n",
       " String,\n",
       " Int64,\n",
       " String,\n",
       " String,\n",
       " String,\n",
       " String,\n",
       " Int64,\n",
       " String,\n",
       " String,\n",
       " String,\n",
       " Int64,\n",
       " Float64,\n",
       " String,\n",
       " Boolean,\n",
       " Int64]"
      ]
     },
     "execution_count": 6,
     "metadata": {},
     "output_type": "execute_result"
    }
   ],
   "source": [
    "# Prints a list with the column types in order\n",
    "df.dtypes  "
   ]
  },
  {
   "cell_type": "markdown",
   "metadata": {},
   "source": [
    "### Selecting and Filtering Data\n",
    "\n",
    "Here I'll do operations that are similar to the **SELECT** and **WHERE** commands in **SQL**."
   ]
  },
  {
   "cell_type": "code",
   "execution_count": 10,
   "metadata": {},
   "outputs": [
    {
     "name": "stdout",
     "output_type": "stream",
     "text": [
      "shape: (5, 3)\n",
      "┌──────────────┬────────────┬────────────┐\n",
      "│ product_name ┆ sale_date  ┆ unit_price │\n",
      "│ ---          ┆ ---        ┆ ---        │\n",
      "│ str          ┆ str        ┆ f64        │\n",
      "╞══════════════╪════════════╪════════════╡\n",
      "│ can          ┆ 2013-11-24 ┆ 347.2      │\n",
      "│ class        ┆ 2020-08-16 ┆ 257.44     │\n",
      "│ talk         ┆ 2020-03-09 ┆ 40.1       │\n",
      "│ better       ┆ 2017-08-20 ┆ 606.33     │\n",
      "│ include      ┆ 2017-07-24 ┆ 466.31     │\n",
      "└──────────────┴────────────┴────────────┘\n"
     ]
    }
   ],
   "source": [
    "# SQL SELECT type of operation. Just selecting columns\n",
    "result = df.select(['product_name', 'sale_date', 'unit_price']).head()\n",
    "print(result)"
   ]
  },
  {
   "cell_type": "code",
   "execution_count": 13,
   "metadata": {},
   "outputs": [
    {
     "name": "stdout",
     "output_type": "stream",
     "text": [
      "shape: (10_000_000, 18)\n",
      "┌────────────┬────────────┬───────────┬───────────┬───┬───────────┬──────────┬───────────┬─────────┐\n",
      "│ product_na ┆ buyer_name ┆ buyer_sex ┆ buyer_age ┆ … ┆ payment_m ┆ discount ┆ discount_ ┆ total   │\n",
      "│ me         ┆ ---        ┆ ---       ┆ ---       ┆   ┆ ethod     ┆ ---      ┆ perc      ┆ ---     │\n",
      "│ ---        ┆ str        ┆ str       ┆ i64       ┆   ┆ ---       ┆ bool     ┆ ---       ┆ f64     │\n",
      "│ str        ┆            ┆           ┆           ┆   ┆ str       ┆          ┆ i64       ┆         │\n",
      "╞════════════╪════════════╪═══════════╪═══════════╪═══╪═══════════╪══════════╪═══════════╪═════════╡\n",
      "│ Mr         ┆ Michael    ┆ M         ┆ 33        ┆ … ┆ Credit    ┆ false    ┆ 0         ┆ 3350.4  │\n",
      "│            ┆ Small      ┆           ┆           ┆   ┆ Card (Mas ┆          ┆           ┆         │\n",
      "│            ┆            ┆           ┆           ┆   ┆ terCard)  ┆          ┆           ┆         │\n",
      "│ Mr         ┆ Dr. Ryan   ┆ M         ┆ 73        ┆ … ┆ Bank      ┆ false    ┆ 0         ┆ 2741.06 │\n",
      "│            ┆ Graves     ┆           ┆           ┆   ┆ Transfer  ┆          ┆           ┆         │\n",
      "│ Mr         ┆ Carolyn    ┆ F         ┆ 68        ┆ … ┆ Bank      ┆ false    ┆ 0         ┆ 1374.64 │\n",
      "│            ┆ Haley      ┆           ┆           ┆   ┆ Transfer  ┆          ┆           ┆         │\n",
      "│ Mr         ┆ Amanda     ┆ F         ┆ 32        ┆ … ┆ Pix       ┆ false    ┆ 0         ┆ 2398.83 │\n",
      "│            ┆ Cooper     ┆           ┆           ┆   ┆           ┆          ┆           ┆         │\n",
      "│ Mr         ┆ Amy Roth   ┆ F         ┆ 69        ┆ … ┆ Credit    ┆ false    ┆ 0         ┆ 2037.75 │\n",
      "│            ┆            ┆           ┆           ┆   ┆ Card (Mas ┆          ┆           ┆         │\n",
      "│            ┆            ┆           ┆           ┆   ┆ terCard)  ┆          ┆           ┆         │\n",
      "│ …          ┆ …          ┆ …         ┆ …         ┆ … ┆ …         ┆ …        ┆ …         ┆ …       │\n",
      "│ yeah       ┆ Raymond    ┆ M         ┆ 37        ┆ … ┆ Cryptocur ┆ false    ┆ 0         ┆ 877.3   │\n",
      "│            ┆ Miller     ┆           ┆           ┆   ┆ rency (Et ┆          ┆           ┆         │\n",
      "│            ┆            ┆           ┆           ┆   ┆ hereum)   ┆          ┆           ┆         │\n",
      "│ yeah       ┆ Nicole     ┆ F         ┆ 71        ┆ … ┆ Credit    ┆ false    ┆ 0         ┆ 1698.1  │\n",
      "│            ┆ Fletcher   ┆           ┆           ┆   ┆ Card      ┆          ┆           ┆         │\n",
      "│            ┆            ┆           ┆           ┆   ┆ (American ┆          ┆           ┆         │\n",
      "│            ┆            ┆           ┆           ┆   ┆ Express)  ┆          ┆           ┆         │\n",
      "│ yeah       ┆ Stephen    ┆ M         ┆ 68        ┆ … ┆ Cash      ┆ false    ┆ 0         ┆ 1713.78 │\n",
      "│            ┆ Marshall   ┆           ┆           ┆   ┆           ┆          ┆           ┆         │\n",
      "│ yeah       ┆ Kenneth    ┆ M         ┆ 74        ┆ … ┆ Debit     ┆ true     ┆ 10        ┆ 194.99  │\n",
      "│            ┆ Jones      ┆           ┆           ┆   ┆ Card      ┆          ┆           ┆         │\n",
      "│ yeah       ┆ Brenda     ┆ F         ┆ 34        ┆ … ┆ Google    ┆ false    ┆ 0         ┆ 1878.7  │\n",
      "│            ┆ Nelson     ┆           ┆           ┆   ┆ Pay       ┆          ┆           ┆         │\n",
      "└────────────┴────────────┴───────────┴───────────┴───┴───────────┴──────────┴───────────┴─────────┘\n"
     ]
    }
   ],
   "source": [
    "# 'with_columns' keeps all the original columns and \n",
    "#   adds a new one 'total' calculating the total of each sales\n",
    "result = df.with_columns([\n",
    "    (pl.col('unit_price') * pl.col('units_sold')).alias('total')\n",
    "]).sort('product_name')\n",
    "print(result)"
   ]
  },
  {
   "cell_type": "code",
   "execution_count": 14,
   "metadata": {},
   "outputs": [
    {
     "name": "stdout",
     "output_type": "stream",
     "text": [
      "shape: (10_000_000, 2)\n",
      "┌──────────────┬─────────┐\n",
      "│ product_name ┆ total   │\n",
      "│ ---          ┆ ---     │\n",
      "│ str          ┆ f64     │\n",
      "╞══════════════╪═════════╡\n",
      "│ Mr           ┆ 3350.4  │\n",
      "│ Mr           ┆ 2741.06 │\n",
      "│ Mr           ┆ 1374.64 │\n",
      "│ Mr           ┆ 2398.83 │\n",
      "│ Mr           ┆ 2037.75 │\n",
      "│ …            ┆ …       │\n",
      "│ yeah         ┆ 877.3   │\n",
      "│ yeah         ┆ 1698.1  │\n",
      "│ yeah         ┆ 1713.78 │\n",
      "│ yeah         ┆ 194.99  │\n",
      "│ yeah         ┆ 1878.7  │\n",
      "└──────────────┴─────────┘\n"
     ]
    }
   ],
   "source": [
    "# Here, we select only the relevant columns and calculates the total of each sales\n",
    "result = df.select(\n",
    "    pl.col('product_name'), \n",
    "    (pl.col('unit_price') * pl.col('units_sold')).alias('total')\n",
    ").sort('product_name')\n",
    "print(result)\n"
   ]
  },
  {
   "cell_type": "code",
   "execution_count": 15,
   "metadata": {},
   "outputs": [
    {
     "name": "stdout",
     "output_type": "stream",
     "text": [
      "shape: (250, 2)\n",
      "┌──────────────┬──────────────┐\n",
      "│ product_name ┆ total        │\n",
      "│ ---          ┆ ---          │\n",
      "│ str          ┆ str          │\n",
      "╞══════════════╪══════════════╡\n",
      "│ Mr           ┆ 82332030.58  │\n",
      "│ TV           ┆ 21975665.17  │\n",
      "│ about        ┆ 121993075.77 │\n",
      "│ act          ┆ 172140612.42 │\n",
      "│ action       ┆ 52822069.73  │\n",
      "│ …            ┆ …            │\n",
      "│ wish         ┆ 60342924.43  │\n",
      "│ without      ┆ 190236710.92 │\n",
      "│ worker       ┆ 129537279.33 │\n",
      "│ write        ┆ 208092819.59 │\n",
      "│ yeah         ┆ 40432577.87  │\n",
      "└──────────────┴──────────────┘\n"
     ]
    }
   ],
   "source": [
    "# Groups by product_name and calculates the total sales of each product_name\n",
    "result = df.group_by('product_name').agg([ \n",
    "    (pl.col('unit_price') * pl.col('units_sold')).sum().round(2).alias('total')\n",
    "]).sort('product_name')\n",
    "\n",
    "result = result.with_columns(pl.col('total').cast(pl.Utf8))\n",
    "\n",
    "print(result)"
   ]
  },
  {
   "cell_type": "code",
   "execution_count": 16,
   "metadata": {},
   "outputs": [
    {
     "name": "stdout",
     "output_type": "stream",
     "text": [
      "shape: (1_369_107, 6)\n",
      "┌──────────────┬────────────┬─────────────────┬─────────────────┬──────────────────┬──────────┐\n",
      "│ product_name ┆ sale_date  ┆ mean_unit_price ┆ mean_units_sold ┆ total_units_sold ┆ total    │\n",
      "│ ---          ┆ ---        ┆ ---             ┆ ---             ┆ ---              ┆ ---      │\n",
      "│ str          ┆ str        ┆ f64             ┆ f64             ┆ i64              ┆ str      │\n",
      "╞══════════════╪════════════╪═════════════════╪═════════════════╪══════════════════╪══════════╡\n",
      "│ Mr           ┆ 2010-01-01 ┆ 373.56          ┆ 6.44            ┆ 58               ┆ 21653.31 │\n",
      "│ Mr           ┆ 2010-01-02 ┆ 367.09          ┆ 5.29            ┆ 37               ┆ 13659.21 │\n",
      "│ Mr           ┆ 2010-01-03 ┆ 359.18          ┆ 4.8             ┆ 24               ┆ 8635.01  │\n",
      "│ Mr           ┆ 2010-01-04 ┆ 367.74          ┆ 6.5             ┆ 52               ┆ 19270.76 │\n",
      "│ Mr           ┆ 2010-01-05 ┆ 366.41          ┆ 5.77            ┆ 75               ┆ 27269.19 │\n",
      "│ …            ┆ …          ┆ …               ┆ …               ┆ …                ┆ …        │\n",
      "│ yeah         ┆ 2024-12-28 ┆ 178.5           ┆ 5.5             ┆ 44               ┆ 7717.77  │\n",
      "│ yeah         ┆ 2024-12-29 ┆ 185.98          ┆ 5.4             ┆ 27               ┆ 4899.39  │\n",
      "│ yeah         ┆ 2024-12-30 ┆ 181.07          ┆ 6.8             ┆ 34               ┆ 6202.48  │\n",
      "│ yeah         ┆ 2024-12-31 ┆ 181.07          ┆ 5.89            ┆ 53               ┆ 9584.18  │\n",
      "│ yeah         ┆ 2025-01-01 ┆ 181.24          ┆ 6.25            ┆ 50               ┆ 8935.16  │\n",
      "└──────────────┴────────────┴─────────────────┴─────────────────┴──────────────────┴──────────┘\n"
     ]
    }
   ],
   "source": [
    "# Groups by product_name and sale_date and makes some calculations, \n",
    "#   like total_units_sold and total for each day\n",
    "result = df.group_by(['product_name', 'sale_date']).agg([\n",
    "    pl.col('unit_price').mean().round(2).alias('mean_unit_price'),\n",
    "    pl.col('units_sold').mean().round(2).alias('mean_units_sold'),\n",
    "    pl.col('units_sold').sum().round(2).alias('total_units_sold'),\n",
    "    (pl.col('unit_price') * pl.col('units_sold')).sum().round(2).alias('total'),\n",
    "]).sort('product_name','sale_date')\n",
    "\n",
    "result = result.with_columns(pl.col('total').cast(pl.Utf8))\n",
    "\n",
    "print(result)"
   ]
  },
  {
   "cell_type": "code",
   "execution_count": 18,
   "metadata": {},
   "outputs": [
    {
     "name": "stdout",
     "output_type": "stream",
     "text": [
      "shape: (1_630_629, 17)\n",
      "┌───────────┬───────────┬───────────┬───────────┬───┬───────────┬───────────┬──────────┬───────────┐\n",
      "│ product_n ┆ buyer_nam ┆ buyer_sex ┆ buyer_age ┆ … ┆ unit_pric ┆ payment_m ┆ discount ┆ discount_ │\n",
      "│ ame       ┆ e         ┆ ---       ┆ ---       ┆   ┆ e         ┆ ethod     ┆ ---      ┆ perc      │\n",
      "│ ---       ┆ ---       ┆ str       ┆ i64       ┆   ┆ ---       ┆ ---       ┆ bool     ┆ ---       │\n",
      "│ str       ┆ str       ┆           ┆           ┆   ┆ f64       ┆ str       ┆          ┆ i64       │\n",
      "╞═══════════╪═══════════╪═══════════╪═══════════╪═══╪═══════════╪═══════════╪══════════╪═══════════╡\n",
      "│ whole     ┆ Jeffrey   ┆ M         ┆ 28        ┆ … ┆ 979.82    ┆ Pix       ┆ false    ┆ 0         │\n",
      "│           ┆ Lynch     ┆           ┆           ┆   ┆           ┆           ┆          ┆           │\n",
      "│ law       ┆ Kristophe ┆ M         ┆ 21        ┆ … ┆ 844.51    ┆ Credit    ┆ false    ┆ 0         │\n",
      "│           ┆ r         ┆           ┆           ┆   ┆           ┆ Card (Mas ┆          ┆           │\n",
      "│           ┆ Rodriguez ┆           ┆           ┆   ┆           ┆ terCard)  ┆          ┆           │\n",
      "│ once      ┆ Michael   ┆ M         ┆ 39        ┆ … ┆ 744.83    ┆ Credit    ┆ false    ┆ 0         │\n",
      "│           ┆ Clark     ┆           ┆           ┆   ┆           ┆ Card (Mas ┆          ┆           │\n",
      "│           ┆           ┆           ┆           ┆   ┆           ┆ terCard)  ┆          ┆           │\n",
      "│ reduce    ┆ Karen     ┆ F         ┆ 59        ┆ … ┆ 883.32    ┆ Cryptocur ┆ false    ┆ 0         │\n",
      "│           ┆ Davis     ┆           ┆           ┆   ┆           ┆ rency (Et ┆          ┆           │\n",
      "│           ┆           ┆           ┆           ┆   ┆           ┆ hereum)   ┆          ┆           │\n",
      "│ doctor    ┆ Mary Cole ┆ F         ┆ 50        ┆ … ┆ 505.17    ┆ Cryptocur ┆ false    ┆ 0         │\n",
      "│           ┆           ┆           ┆           ┆   ┆           ┆ rency     ┆          ┆           │\n",
      "│           ┆           ┆           ┆           ┆   ┆           ┆ (Bitcoin) ┆          ┆           │\n",
      "│ …         ┆ …         ┆ …         ┆ …         ┆ … ┆ …         ┆ …         ┆ …        ┆ …         │\n",
      "│ daughter  ┆ Kristophe ┆ M         ┆ 56        ┆ … ┆ 757.14    ┆ Credit    ┆ true     ┆ 10        │\n",
      "│           ┆ r         ┆           ┆           ┆   ┆           ┆ Card (Mas ┆          ┆           │\n",
      "│           ┆ Rodriguez ┆           ┆           ┆   ┆           ┆ terCard)  ┆          ┆           │\n",
      "│ sound     ┆ Kyle Fry  ┆ M         ┆ 57        ┆ … ┆ 1037.52   ┆ Cash      ┆ false    ┆ 0         │\n",
      "│ somebody  ┆ Courtney  ┆ F         ┆ 21        ┆ … ┆ 656.95    ┆ Pix       ┆ false    ┆ 0         │\n",
      "│           ┆ King      ┆           ┆           ┆   ┆           ┆           ┆          ┆           │\n",
      "│ without   ┆ Tina      ┆ F         ┆ 67        ┆ … ┆ 865.03    ┆ Cryptocur ┆ true     ┆ 5         │\n",
      "│           ┆ Quinn     ┆           ┆           ┆   ┆           ┆ rency     ┆          ┆           │\n",
      "│           ┆           ┆           ┆           ┆   ┆           ┆ (Bitcoin) ┆          ┆           │\n",
      "│ positive  ┆ Michelle  ┆ F         ┆ 44        ┆ … ┆ 763.56    ┆ Cryptocur ┆ false    ┆ 0         │\n",
      "│           ┆ Tyler     ┆           ┆           ┆   ┆           ┆ rency (Et ┆          ┆           │\n",
      "│           ┆           ┆           ┆           ┆   ┆           ┆ hereum)   ┆          ┆           │\n",
      "└───────────┴───────────┴───────────┴───────────┴───┴───────────┴───────────┴──────────┴───────────┘\n"
     ]
    }
   ],
   "source": [
    "# Selecting sales with a total greater than 5 thousand\n",
    "result = df.filter((pl.col('unit_price') * pl.col('units_sold')) > 5000)\n",
    "print(result)"
   ]
  },
  {
   "cell_type": "code",
   "execution_count": 19,
   "metadata": {},
   "outputs": [
    {
     "name": "stdout",
     "output_type": "stream",
     "text": [
      "shape: (1, 1)\n",
      "┌──────────────┐\n",
      "│ product_name │\n",
      "│ ---          │\n",
      "│ u32          │\n",
      "╞══════════════╡\n",
      "│ 250          │\n",
      "└──────────────┘\n"
     ]
    }
   ],
   "source": [
    "# Number of unique items in the column\n",
    "result = df.select([\n",
    "    pl.col('product_name').n_unique()\n",
    "])\n",
    "print(result)"
   ]
  },
  {
   "cell_type": "code",
   "execution_count": 22,
   "metadata": {},
   "outputs": [
    {
     "name": "stdout",
     "output_type": "stream",
     "text": [
      "shape: (250, 2)\n",
      "┌──────────────┬────────────┐\n",
      "│ product_name ┆ times_sold │\n",
      "│ ---          ┆ ---        │\n",
      "│ str          ┆ i64        │\n",
      "╞══════════════╪════════════╡\n",
      "│ station      ┆ 221207     │\n",
      "│ walk         ┆ 219375     │\n",
      "│ agree        ┆ 220911     │\n",
      "│ street       ┆ 215889     │\n",
      "│ better       ┆ 219391     │\n",
      "│ …            ┆ …          │\n",
      "│ practice     ┆ 220540     │\n",
      "│ daughter     ┆ 220102     │\n",
      "│ national     ┆ 217683     │\n",
      "│ without      ┆ 220376     │\n",
      "│ skin         ┆ 220887     │\n",
      "└──────────────┴────────────┘\n"
     ]
    }
   ],
   "source": [
    "# How many times a product_name was sold\n",
    "result = df.group_by('product_name').agg([\n",
    "    pl.col('units_sold').sum().alias('times_sold')\n",
    "])\n",
    "print(result)"
   ]
  },
  {
   "cell_type": "code",
   "execution_count": 26,
   "metadata": {},
   "outputs": [
    {
     "name": "stdout",
     "output_type": "stream",
     "text": [
      "shape: (1_369_107, 3)\n",
      "┌──────────────┬────────────┬────────────┐\n",
      "│ product_name ┆ sale_date  ┆ times_sold │\n",
      "│ ---          ┆ ---        ┆ ---        │\n",
      "│ str          ┆ str        ┆ i64        │\n",
      "╞══════════════╪════════════╪════════════╡\n",
      "│ natural      ┆ 2010-01-01 ┆ 48         │\n",
      "│ building     ┆ 2010-01-01 ┆ 33         │\n",
      "│ hospital     ┆ 2010-01-01 ┆ 65         │\n",
      "│ issue        ┆ 2010-01-01 ┆ 51         │\n",
      "│ new          ┆ 2010-01-01 ┆ 39         │\n",
      "│ …            ┆ …          ┆ …          │\n",
      "│ new          ┆ 2025-01-01 ┆ 40         │\n",
      "│ green        ┆ 2025-01-01 ┆ 41         │\n",
      "│ however      ┆ 2025-01-01 ┆ 32         │\n",
      "│ beyond       ┆ 2025-01-01 ┆ 63         │\n",
      "│ near         ┆ 2025-01-01 ┆ 79         │\n",
      "└──────────────┴────────────┴────────────┘\n"
     ]
    }
   ],
   "source": [
    "# How many times a product_name was sold, day by day\n",
    "result = df.group_by('product_name', 'sale_date').agg([\n",
    "    pl.col('units_sold').sum().alias('times_sold')\n",
    "]).sort('sale_date')\n",
    "print(result)"
   ]
  },
  {
   "cell_type": "code",
   "execution_count": 28,
   "metadata": {},
   "outputs": [
    {
     "name": "stdout",
     "output_type": "stream",
     "text": [
      "shape: (250, 6)\n",
      "┌──────────────┬────────┬────────────┬─────────┬────────┬───────────┐\n",
      "│ product_name ┆ min    ┆ mean       ┆ median  ┆ max    ┆ std       │\n",
      "│ ---          ┆ ---    ┆ ---        ┆ ---     ┆ ---    ┆ ---       │\n",
      "│ str          ┆ f64    ┆ f64        ┆ f64     ┆ f64    ┆ f64       │\n",
      "╞══════════════╪════════╪════════════╪═════════╪════════╪═══════════╡\n",
      "│ week         ┆ 189.36 ┆ 210.48729  ┆ 210.44  ┆ 231.43 ┆ 12.141736 │\n",
      "│ person       ┆ 551.9  ┆ 613.174675 ┆ 613.25  ┆ 674.54 ┆ 35.535322 │\n",
      "│ what         ┆ 285.09 ┆ 316.687452 ┆ 316.67  ┆ 348.43 ┆ 18.271911 │\n",
      "│ act          ┆ 710.72 ┆ 789.976492 ┆ 790.05  ┆ 868.66 ┆ 45.573858 │\n",
      "│ kid          ┆ 207.95 ┆ 231.04859  ┆ 231.11  ┆ 254.17 ┆ 13.362392 │\n",
      "│ …            ┆ …      ┆ …          ┆ …       ┆ …      ┆ …         │\n",
      "│ laugh        ┆ 283.76 ┆ 315.289027 ┆ 315.3   ┆ 346.82 ┆ 18.161344 │\n",
      "│ seem         ┆ 304.61 ┆ 338.432967 ┆ 338.69  ┆ 372.31 ┆ 19.602792 │\n",
      "│ magazine     ┆ 197.85 ┆ 219.766694 ┆ 219.8   ┆ 241.81 ┆ 12.633401 │\n",
      "│ figure       ┆ 688.96 ┆ 765.377421 ┆ 765.2   ┆ 842.04 ┆ 44.227154 │\n",
      "│ find         ┆ 628.34 ┆ 698.177459 ┆ 697.965 ┆ 767.96 ┆ 40.221122 │\n",
      "└──────────────┴────────┴────────────┴─────────┴────────┴───────────┘\n"
     ]
    }
   ],
   "source": [
    "# min, med, max, avg selling price of each product_name\n",
    "result = df.group_by('product_name').agg([\n",
    "    pl.col('unit_price').min().alias('min'),\n",
    "    pl.col('unit_price').mean().alias('mean'),\n",
    "    pl.col('unit_price').median().alias('median'),\n",
    "    pl.col('unit_price').max().alias('max'),\n",
    "    pl.col('unit_price').std().alias('std'),\n",
    "])\n",
    "print(result)"
   ]
  },
  {
   "cell_type": "code",
   "execution_count": 29,
   "metadata": {},
   "outputs": [
    {
     "name": "stdout",
     "output_type": "stream",
     "text": [
      "shape: (9, 2)\n",
      "┌────────────┬────────────┐\n",
      "│ statistic  ┆ unit_price │\n",
      "│ ---        ┆ ---        │\n",
      "│ str        ┆ f64        │\n",
      "╞════════════╪════════════╡\n",
      "│ count      ┆ 1e7        │\n",
      "│ null_count ┆ 0.0        │\n",
      "│ mean       ┆ 483.838369 │\n",
      "│ std        ┆ 281.03167  │\n",
      "│ min        ┆ 10.51      │\n",
      "│ 25%        ┆ 246.37     │\n",
      "│ 50%        ┆ 452.64     │\n",
      "│ 75%        ┆ 724.79     │\n",
      "│ max        ┆ 1090.23    │\n",
      "└────────────┴────────────┘\n"
     ]
    }
   ],
   "source": [
    "# Compute describe at a series level\n",
    "result = df.select([\n",
    "    pl.col('unit_price')\n",
    "]).describe()\n",
    "print(result)"
   ]
  }
 ],
 "metadata": {
  "kernelspec": {
   "display_name": ".venv",
   "language": "python",
   "name": "python3"
  },
  "language_info": {
   "codemirror_mode": {
    "name": "ipython",
    "version": 3
   },
   "file_extension": ".py",
   "mimetype": "text/x-python",
   "name": "python",
   "nbconvert_exporter": "python",
   "pygments_lexer": "ipython3",
   "version": "3.12.8"
  }
 },
 "nbformat": 4,
 "nbformat_minor": 2
}
