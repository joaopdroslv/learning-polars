{
 "cells": [
  {
   "cell_type": "code",
   "execution_count": null,
   "metadata": {},
   "outputs": [],
   "source": [
    "!pip install polars"
   ]
  },
  {
   "cell_type": "code",
   "execution_count": 1,
   "metadata": {},
   "outputs": [],
   "source": [
    "import polars as pl"
   ]
  },
  {
   "cell_type": "code",
   "execution_count": 31,
   "metadata": {},
   "outputs": [],
   "source": [
    "df = pl.DataFrame({\n",
    "    'product': ['Apple', 'Banana', 'Apple', 'Orange', 'Banana', 'Orange'],\n",
    "    'category': ['Fruit', 'Fruit', 'Fruit', 'Fruit', 'Fruit', 'Fruit'],\n",
    "    'sales': [100, 150, 200, 50, 120, 80]\n",
    "})"
   ]
  },
  {
   "cell_type": "markdown",
   "metadata": {},
   "source": [
    "### 1. Grouping and Aggregation (group_by, agg)\n",
    "\n",
    "Polars allows you to perform group-based operations with `group_by`, followed by aggregations using `agg`."
   ]
  },
  {
   "cell_type": "markdown",
   "metadata": {},
   "source": [
    "**Example: Grouping and Aggregating Data**\n",
    "\n",
    "Let's assume we have a dataset of sales transactions and we want to group the data by product category and calculate the total sales for each category."
   ]
  },
  {
   "cell_type": "code",
   "execution_count": 24,
   "metadata": {},
   "outputs": [
    {
     "name": "stdout",
     "output_type": "stream",
     "text": [
      "shape: (1, 2)\n",
      "┌──────────┬─────────────┐\n",
      "│ category ┆ total_sales │\n",
      "│ ---      ┆ ---         │\n",
      "│ str      ┆ i64         │\n",
      "╞══════════╪═════════════╡\n",
      "│ Fruit    ┆ 700         │\n",
      "└──────────┴─────────────┘\n"
     ]
    }
   ],
   "source": [
    "# Group by category and calculate the total sales per category\n",
    "result = df.group_by('category').agg(\n",
    "    pl.col('sales').sum().alias('total_sales')\n",
    ")\n",
    "print(result)"
   ]
  },
  {
   "cell_type": "markdown",
   "metadata": {},
   "source": [
    "**Explanation:**\n",
    "\n",
    "- The `groupby(\"category\")` groups the data by the `category` column.\n",
    "- `agg([pl.col(\"sales\").sum().alias(\"total_sales\")])` calculates the total sales for each category.\n",
    "You can aggregate with multiple operations like sum, mean, min, max, count, etc.\n",
    "\n",
    "You can aggregate with multiple operations like `sum`, `mean`, `min`, `max`, `count`, etc."
   ]
  },
  {
   "cell_type": "markdown",
   "metadata": {},
   "source": [
    "### 2. Sorting and Joins (sort, join)"
   ]
  },
  {
   "cell_type": "markdown",
   "metadata": {},
   "source": [
    "**Sorting (`sort`)**\n",
    "\n",
    "You can sort a DataFrame by one or more columns using `sort`. By default, sorting is done in ascending order.\n",
    "\n",
    "**Example: Sorting a DataFrame by Sales**"
   ]
  },
  {
   "cell_type": "code",
   "execution_count": 25,
   "metadata": {},
   "outputs": [
    {
     "name": "stdout",
     "output_type": "stream",
     "text": [
      "shape: (6, 3)\n",
      "┌─────────┬──────────┬───────┐\n",
      "│ product ┆ category ┆ sales │\n",
      "│ ---     ┆ ---      ┆ ---   │\n",
      "│ str     ┆ str      ┆ i64   │\n",
      "╞═════════╪══════════╪═══════╡\n",
      "│ Orange  ┆ Fruit    ┆ 50    │\n",
      "│ Orange  ┆ Fruit    ┆ 80    │\n",
      "│ Apple   ┆ Fruit    ┆ 100   │\n",
      "│ Banana  ┆ Fruit    ┆ 120   │\n",
      "│ Banana  ┆ Fruit    ┆ 150   │\n",
      "│ Apple   ┆ Fruit    ┆ 200   │\n",
      "└─────────┴──────────┴───────┘\n"
     ]
    }
   ],
   "source": [
    "# Sort by sales in descending order\n",
    "sorted_df = df.sort('sales')\n",
    "print(sorted_df)"
   ]
  },
  {
   "cell_type": "markdown",
   "metadata": {},
   "source": [
    "**Joining DataFrames (`join`)**\n",
    "\n",
    "You can perform SQL-style joins between DataFrames using the `join` method. Polars supports inner, left, right, and outer joins.\n",
    "\n",
    "**Example: Inner Join**\n",
    "\n",
    "Let's join two DataFrames: one containing sales data and another containing product details."
   ]
  },
  {
   "cell_type": "code",
   "execution_count": 32,
   "metadata": {},
   "outputs": [
    {
     "name": "stdout",
     "output_type": "stream",
     "text": [
      "shape: (6, 5)\n",
      "┌─────────┬──────────┬───────┬────────────────┬───────┐\n",
      "│ product ┆ category ┆ sales ┆ category_right ┆ price │\n",
      "│ ---     ┆ ---      ┆ ---   ┆ ---            ┆ ---   │\n",
      "│ str     ┆ str      ┆ i64   ┆ str            ┆ f64   │\n",
      "╞═════════╪══════════╪═══════╪════════════════╪═══════╡\n",
      "│ Apple   ┆ Fruit    ┆ 100   ┆ Fruit          ┆ 1.5   │\n",
      "│ Banana  ┆ Fruit    ┆ 150   ┆ Fruit          ┆ 1.2   │\n",
      "│ Apple   ┆ Fruit    ┆ 200   ┆ Fruit          ┆ 1.5   │\n",
      "│ Orange  ┆ Fruit    ┆ 50    ┆ Fruit          ┆ 1.0   │\n",
      "│ Banana  ┆ Fruit    ┆ 120   ┆ Fruit          ┆ 1.2   │\n",
      "│ Orange  ┆ Fruit    ┆ 80    ┆ Fruit          ┆ 1.0   │\n",
      "└─────────┴──────────┴───────┴────────────────┴───────┘\n"
     ]
    }
   ],
   "source": [
    "products_df = pl.DataFrame({\n",
    "    'product': ['Apple', 'Banana', 'Orange'],\n",
    "    'category': ['Fruit', 'Fruit', 'Fruit'],\n",
    "    'price': [1.5, 1.2, 1.0]\n",
    "})\n",
    "\n",
    "# Perform an inner join on the 'product' column\n",
    "joined_df = df.join(products_df, on='product', how='inner')\n",
    "\n",
    "print(joined_df)"
   ]
  },
  {
   "cell_type": "markdown",
   "metadata": {},
   "source": [
    "**Explanation:**\n",
    "\n",
    "The `join` operation merges the two DataFrames on the product column, keeping only the rows where the `product` exists in both DataFrames (`how=\"inner\"`).\n",
    "\n",
    "You can also perform `left`, `right`, and `outer` joins based on the requirement."
   ]
  }
 ],
 "metadata": {
  "kernelspec": {
   "display_name": ".venv",
   "language": "python",
   "name": "python3"
  },
  "language_info": {
   "codemirror_mode": {
    "name": "ipython",
    "version": 3
   },
   "file_extension": ".py",
   "mimetype": "text/x-python",
   "name": "python",
   "nbconvert_exporter": "python",
   "pygments_lexer": "ipython3",
   "version": "3.12.8"
  }
 },
 "nbformat": 4,
 "nbformat_minor": 2
}
