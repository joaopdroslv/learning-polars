{
 "cells": [
  {
   "cell_type": "markdown",
   "metadata": {},
   "source": [
    "### Importing everything we need"
   ]
  },
  {
   "cell_type": "code",
   "execution_count": null,
   "metadata": {},
   "outputs": [],
   "source": [
    "!pip install polars"
   ]
  },
  {
   "cell_type": "code",
   "execution_count": null,
   "metadata": {},
   "outputs": [],
   "source": [
    "import polars as pl\n",
    "import numpy as np"
   ]
  },
  {
   "cell_type": "markdown",
   "metadata": {},
   "source": [
    "### Reading our dataset (CSV file)"
   ]
  },
  {
   "cell_type": "code",
   "execution_count": 3,
   "metadata": {},
   "outputs": [],
   "source": [
    "df = pl.read_csv('sales.csv')"
   ]
  },
  {
   "cell_type": "markdown",
   "metadata": {},
   "source": [
    "### Basic Operations"
   ]
  },
  {
   "cell_type": "code",
   "execution_count": 4,
   "metadata": {},
   "outputs": [
    {
     "data": {
      "text/plain": [
       "(10000000, 6)"
      ]
     },
     "execution_count": 4,
     "metadata": {},
     "output_type": "execute_result"
    }
   ],
   "source": [
    "df.shape  # (rows amount, columns amount)"
   ]
  },
  {
   "cell_type": "code",
   "execution_count": 5,
   "metadata": {},
   "outputs": [
    {
     "data": {
      "text/html": [
       "<div><style>\n",
       ".dataframe > thead > tr,\n",
       ".dataframe > tbody > tr {\n",
       "  text-align: right;\n",
       "  white-space: pre-wrap;\n",
       "}\n",
       "</style>\n",
       "<small>shape: (5, 6)</small><table border=\"1\" class=\"dataframe\"><thead><tr><th>product</th><th>buyer</th><th>seller</th><th>date</th><th>sale_price</th><th>units_sold</th></tr><tr><td>str</td><td>str</td><td>str</td><td>str</td><td>f64</td><td>i64</td></tr></thead><tbody><tr><td>&quot;service&quot;</td><td>&quot;Cassandra Hansen&quot;</td><td>&quot;Jennifer Rice&quot;</td><td>&quot;2020-02-07&quot;</td><td>66.97</td><td>7</td></tr><tr><td>&quot;place&quot;</td><td>&quot;Michael Walton&quot;</td><td>&quot;Chris Ramirez&quot;</td><td>&quot;2023-02-24&quot;</td><td>668.17</td><td>10</td></tr><tr><td>&quot;phone&quot;</td><td>&quot;Brandon Anthony&quot;</td><td>&quot;Michael Reyes&quot;</td><td>&quot;2022-02-02&quot;</td><td>556.45</td><td>1</td></tr><tr><td>&quot;final&quot;</td><td>&quot;Cassandra Hansen&quot;</td><td>&quot;David Ray&quot;</td><td>&quot;2021-12-12&quot;</td><td>689.13</td><td>8</td></tr><tr><td>&quot;guy&quot;</td><td>&quot;Paul Lee&quot;</td><td>&quot;Phillip Wood&quot;</td><td>&quot;2020-09-06&quot;</td><td>496.67</td><td>7</td></tr></tbody></table></div>"
      ],
      "text/plain": [
       "shape: (5, 6)\n",
       "┌─────────┬──────────────────┬───────────────┬────────────┬────────────┬────────────┐\n",
       "│ product ┆ buyer            ┆ seller        ┆ date       ┆ sale_price ┆ units_sold │\n",
       "│ ---     ┆ ---              ┆ ---           ┆ ---        ┆ ---        ┆ ---        │\n",
       "│ str     ┆ str              ┆ str           ┆ str        ┆ f64        ┆ i64        │\n",
       "╞═════════╪══════════════════╪═══════════════╪════════════╪════════════╪════════════╡\n",
       "│ service ┆ Cassandra Hansen ┆ Jennifer Rice ┆ 2020-02-07 ┆ 66.97      ┆ 7          │\n",
       "│ place   ┆ Michael Walton   ┆ Chris Ramirez ┆ 2023-02-24 ┆ 668.17     ┆ 10         │\n",
       "│ phone   ┆ Brandon Anthony  ┆ Michael Reyes ┆ 2022-02-02 ┆ 556.45     ┆ 1          │\n",
       "│ final   ┆ Cassandra Hansen ┆ David Ray     ┆ 2021-12-12 ┆ 689.13     ┆ 8          │\n",
       "│ guy     ┆ Paul Lee         ┆ Phillip Wood  ┆ 2020-09-06 ┆ 496.67     ┆ 7          │\n",
       "└─────────┴──────────────────┴───────────────┴────────────┴────────────┴────────────┘"
      ]
     },
     "execution_count": 5,
     "metadata": {},
     "output_type": "execute_result"
    }
   ],
   "source": [
    "df.head()  # Prints the header, column types and the first five rows"
   ]
  },
  {
   "cell_type": "code",
   "execution_count": 6,
   "metadata": {},
   "outputs": [
    {
     "data": {
      "text/plain": [
       "[String, String, String, String, Float64, Int64]"
      ]
     },
     "execution_count": 6,
     "metadata": {},
     "output_type": "execute_result"
    }
   ],
   "source": [
    "df.dtypes  # Prints a list with the column types in order"
   ]
  },
  {
   "cell_type": "markdown",
   "metadata": {},
   "source": [
    "### Selecting and Filtering Data\n",
    "\n",
    "Here I'll do operations that are similar to the **SELECT** and **WHERE** commands in **SQL**.\n",
    "\n",
    "1. Indexing with [] works but is an \"anti-pattern\" in polars\n",
    "\n",
    "There is no `df.loc` or `df.iloc` as polars doesn't have indexes. "
   ]
  },
  {
   "cell_type": "code",
   "execution_count": 11,
   "metadata": {},
   "outputs": [
    {
     "data": {
      "text/html": [
       "<div><style>\n",
       ".dataframe > thead > tr,\n",
       ".dataframe > tbody > tr {\n",
       "  text-align: right;\n",
       "  white-space: pre-wrap;\n",
       "}\n",
       "</style>\n",
       "<small>shape: (5, 2)</small><table border=\"1\" class=\"dataframe\"><thead><tr><th>product</th><th>sale_price</th></tr><tr><td>str</td><td>f64</td></tr></thead><tbody><tr><td>&quot;service&quot;</td><td>66.97</td></tr><tr><td>&quot;place&quot;</td><td>668.17</td></tr><tr><td>&quot;phone&quot;</td><td>556.45</td></tr><tr><td>&quot;final&quot;</td><td>689.13</td></tr><tr><td>&quot;guy&quot;</td><td>496.67</td></tr></tbody></table></div>"
      ],
      "text/plain": [
       "shape: (5, 2)\n",
       "┌─────────┬────────────┐\n",
       "│ product ┆ sale_price │\n",
       "│ ---     ┆ ---        │\n",
       "│ str     ┆ f64        │\n",
       "╞═════════╪════════════╡\n",
       "│ service ┆ 66.97      │\n",
       "│ place   ┆ 668.17     │\n",
       "│ phone   ┆ 556.45     │\n",
       "│ final   ┆ 689.13     │\n",
       "│ guy     ┆ 496.67     │\n",
       "└─────────┴────────────┘"
      ]
     },
     "execution_count": 11,
     "metadata": {},
     "output_type": "execute_result"
    }
   ],
   "source": [
    "df[:,['product','sale_price']].head()  # First five rows of 'product', 'sale_price' column"
   ]
  },
  {
   "cell_type": "code",
   "execution_count": 14,
   "metadata": {},
   "outputs": [
    {
     "data": {
      "text/html": [
       "<div><style>\n",
       ".dataframe > thead > tr,\n",
       ".dataframe > tbody > tr {\n",
       "  text-align: right;\n",
       "  white-space: pre-wrap;\n",
       "}\n",
       "</style>\n",
       "<small>shape: (5, 6)</small><table border=\"1\" class=\"dataframe\"><thead><tr><th>product</th><th>buyer</th><th>seller</th><th>date</th><th>sale_price</th><th>units_sold</th></tr><tr><td>str</td><td>str</td><td>str</td><td>str</td><td>f64</td><td>i64</td></tr></thead><tbody><tr><td>&quot;figure&quot;</td><td>&quot;Eric Deleon&quot;</td><td>&quot;Nicholas Lopez&quot;</td><td>&quot;2020-12-19&quot;</td><td>919.97</td><td>8</td></tr><tr><td>&quot;this&quot;</td><td>&quot;Patrick Pace&quot;</td><td>&quot;Michael Reyes&quot;</td><td>&quot;2020-06-27&quot;</td><td>977.48</td><td>7</td></tr><tr><td>&quot;better&quot;</td><td>&quot;Edgar Morris&quot;</td><td>&quot;Karen Pugh&quot;</td><td>&quot;2021-11-22&quot;</td><td>922.25</td><td>4</td></tr><tr><td>&quot;save&quot;</td><td>&quot;Samantha Park&quot;</td><td>&quot;Steven Carter&quot;</td><td>&quot;2020-10-06&quot;</td><td>908.82</td><td>5</td></tr><tr><td>&quot;enter&quot;</td><td>&quot;Jason Stephens&quot;</td><td>&quot;Lori Thompson&quot;</td><td>&quot;2023-03-18&quot;</td><td>912.58</td><td>4</td></tr></tbody></table></div>"
      ],
      "text/plain": [
       "shape: (5, 6)\n",
       "┌─────────┬────────────────┬────────────────┬────────────┬────────────┬────────────┐\n",
       "│ product ┆ buyer          ┆ seller         ┆ date       ┆ sale_price ┆ units_sold │\n",
       "│ ---     ┆ ---            ┆ ---            ┆ ---        ┆ ---        ┆ ---        │\n",
       "│ str     ┆ str            ┆ str            ┆ str        ┆ f64        ┆ i64        │\n",
       "╞═════════╪════════════════╪════════════════╪════════════╪════════════╪════════════╡\n",
       "│ figure  ┆ Eric Deleon    ┆ Nicholas Lopez ┆ 2020-12-19 ┆ 919.97     ┆ 8          │\n",
       "│ this    ┆ Patrick Pace   ┆ Michael Reyes  ┆ 2020-06-27 ┆ 977.48     ┆ 7          │\n",
       "│ better  ┆ Edgar Morris   ┆ Karen Pugh     ┆ 2021-11-22 ┆ 922.25     ┆ 4          │\n",
       "│ save    ┆ Samantha Park  ┆ Steven Carter  ┆ 2020-10-06 ┆ 908.82     ┆ 5          │\n",
       "│ enter   ┆ Jason Stephens ┆ Lori Thompson  ┆ 2023-03-18 ┆ 912.58     ┆ 4          │\n",
       "└─────────┴────────────────┴────────────────┴────────────┴────────────┴────────────┘"
      ]
     },
     "execution_count": 14,
     "metadata": {},
     "output_type": "execute_result"
    }
   ],
   "source": [
    "# Works but looks awful\n",
    "\n",
    "df.filter(pl.col('sale_price') > 900).head()"
   ]
  },
  {
   "cell_type": "markdown",
   "metadata": {},
   "source": [
    "### Select data with idiomatic polars"
   ]
  },
  {
   "cell_type": "code",
   "execution_count": 15,
   "metadata": {},
   "outputs": [
    {
     "data": {
      "text/html": [
       "<div><style>\n",
       ".dataframe > thead > tr,\n",
       ".dataframe > tbody > tr {\n",
       "  text-align: right;\n",
       "  white-space: pre-wrap;\n",
       "}\n",
       "</style>\n",
       "<small>shape: (5, 3)</small><table border=\"1\" class=\"dataframe\"><thead><tr><th>product</th><th>date</th><th>sale_price</th></tr><tr><td>str</td><td>str</td><td>f64</td></tr></thead><tbody><tr><td>&quot;service&quot;</td><td>&quot;2020-02-07&quot;</td><td>66.97</td></tr><tr><td>&quot;place&quot;</td><td>&quot;2023-02-24&quot;</td><td>668.17</td></tr><tr><td>&quot;phone&quot;</td><td>&quot;2022-02-02&quot;</td><td>556.45</td></tr><tr><td>&quot;final&quot;</td><td>&quot;2021-12-12&quot;</td><td>689.13</td></tr><tr><td>&quot;guy&quot;</td><td>&quot;2020-09-06&quot;</td><td>496.67</td></tr></tbody></table></div>"
      ],
      "text/plain": [
       "shape: (5, 3)\n",
       "┌─────────┬────────────┬────────────┐\n",
       "│ product ┆ date       ┆ sale_price │\n",
       "│ ---     ┆ ---        ┆ ---        │\n",
       "│ str     ┆ str        ┆ f64        │\n",
       "╞═════════╪════════════╪════════════╡\n",
       "│ service ┆ 2020-02-07 ┆ 66.97      │\n",
       "│ place   ┆ 2023-02-24 ┆ 668.17     │\n",
       "│ phone   ┆ 2022-02-02 ┆ 556.45     │\n",
       "│ final   ┆ 2021-12-12 ┆ 689.13     │\n",
       "│ guy     ┆ 2020-09-06 ┆ 496.67     │\n",
       "└─────────┴────────────┴────────────┘"
      ]
     },
     "execution_count": 15,
     "metadata": {},
     "output_type": "execute_result"
    }
   ],
   "source": [
    "# SQL SELECT type of operation. Just selecting columns\n",
    "\n",
    "df.select(['product', 'date', 'sale_price']).head()"
   ]
  },
  {
   "cell_type": "code",
   "execution_count": 16,
   "metadata": {},
   "outputs": [
    {
     "data": {
      "text/html": [
       "<div><style>\n",
       ".dataframe > thead > tr,\n",
       ".dataframe > tbody > tr {\n",
       "  text-align: right;\n",
       "  white-space: pre-wrap;\n",
       "}\n",
       "</style>\n",
       "<small>shape: (5, 7)</small><table border=\"1\" class=\"dataframe\"><thead><tr><th>product</th><th>buyer</th><th>seller</th><th>date</th><th>sale_price</th><th>units_sold</th><th>total</th></tr><tr><td>str</td><td>str</td><td>str</td><td>str</td><td>f64</td><td>i64</td><td>f64</td></tr></thead><tbody><tr><td>&quot;service&quot;</td><td>&quot;Cassandra Hansen&quot;</td><td>&quot;Jennifer Rice&quot;</td><td>&quot;2020-02-07&quot;</td><td>66.97</td><td>7</td><td>468.79</td></tr><tr><td>&quot;place&quot;</td><td>&quot;Michael Walton&quot;</td><td>&quot;Chris Ramirez&quot;</td><td>&quot;2023-02-24&quot;</td><td>668.17</td><td>10</td><td>6681.7</td></tr><tr><td>&quot;phone&quot;</td><td>&quot;Brandon Anthony&quot;</td><td>&quot;Michael Reyes&quot;</td><td>&quot;2022-02-02&quot;</td><td>556.45</td><td>1</td><td>556.45</td></tr><tr><td>&quot;final&quot;</td><td>&quot;Cassandra Hansen&quot;</td><td>&quot;David Ray&quot;</td><td>&quot;2021-12-12&quot;</td><td>689.13</td><td>8</td><td>5513.04</td></tr><tr><td>&quot;guy&quot;</td><td>&quot;Paul Lee&quot;</td><td>&quot;Phillip Wood&quot;</td><td>&quot;2020-09-06&quot;</td><td>496.67</td><td>7</td><td>3476.69</td></tr></tbody></table></div>"
      ],
      "text/plain": [
       "shape: (5, 7)\n",
       "┌─────────┬──────────────────┬───────────────┬────────────┬────────────┬────────────┬─────────┐\n",
       "│ product ┆ buyer            ┆ seller        ┆ date       ┆ sale_price ┆ units_sold ┆ total   │\n",
       "│ ---     ┆ ---              ┆ ---           ┆ ---        ┆ ---        ┆ ---        ┆ ---     │\n",
       "│ str     ┆ str              ┆ str           ┆ str        ┆ f64        ┆ i64        ┆ f64     │\n",
       "╞═════════╪══════════════════╪═══════════════╪════════════╪════════════╪════════════╪═════════╡\n",
       "│ service ┆ Cassandra Hansen ┆ Jennifer Rice ┆ 2020-02-07 ┆ 66.97      ┆ 7          ┆ 468.79  │\n",
       "│ place   ┆ Michael Walton   ┆ Chris Ramirez ┆ 2023-02-24 ┆ 668.17     ┆ 10         ┆ 6681.7  │\n",
       "│ phone   ┆ Brandon Anthony  ┆ Michael Reyes ┆ 2022-02-02 ┆ 556.45     ┆ 1          ┆ 556.45  │\n",
       "│ final   ┆ Cassandra Hansen ┆ David Ray     ┆ 2021-12-12 ┆ 689.13     ┆ 8          ┆ 5513.04 │\n",
       "│ guy     ┆ Paul Lee         ┆ Phillip Wood  ┆ 2020-09-06 ┆ 496.67     ┆ 7          ┆ 3476.69 │\n",
       "└─────────┴──────────────────┴───────────────┴────────────┴────────────┴────────────┴─────────┘"
      ]
     },
     "execution_count": 16,
     "metadata": {},
     "output_type": "execute_result"
    }
   ],
   "source": [
    "# Keeps all the original columns and adds a new one\n",
    "# Similar to a SELECT * in SQL\n",
    "\n",
    "df.with_columns([\n",
    "    (pl.col('sale_price') * (pl.col('units_sold'))).alias('total')\n",
    "]).head()"
   ]
  },
  {
   "cell_type": "code",
   "execution_count": 19,
   "metadata": {},
   "outputs": [
    {
     "data": {
      "text/html": [
       "<div><style>\n",
       ".dataframe > thead > tr,\n",
       ".dataframe > tbody > tr {\n",
       "  text-align: right;\n",
       "  white-space: pre-wrap;\n",
       "}\n",
       "</style>\n",
       "<small>shape: (5, 6)</small><table border=\"1\" class=\"dataframe\"><thead><tr><th>product</th><th>buyer</th><th>seller</th><th>date</th><th>sale_price</th><th>units_sold</th></tr><tr><td>str</td><td>str</td><td>str</td><td>str</td><td>f64</td><td>i64</td></tr></thead><tbody><tr><td>&quot;place&quot;</td><td>&quot;Michael Walton&quot;</td><td>&quot;Chris Ramirez&quot;</td><td>&quot;2023-02-24&quot;</td><td>668.17</td><td>10</td></tr><tr><td>&quot;final&quot;</td><td>&quot;Cassandra Hansen&quot;</td><td>&quot;David Ray&quot;</td><td>&quot;2021-12-12&quot;</td><td>689.13</td><td>8</td></tr><tr><td>&quot;would&quot;</td><td>&quot;Brandon Anthony&quot;</td><td>&quot;Richard Ware&quot;</td><td>&quot;2024-06-04&quot;</td><td>744.26</td><td>9</td></tr><tr><td>&quot;figure&quot;</td><td>&quot;Samuel Jones&quot;</td><td>&quot;David Chambers&quot;</td><td>&quot;2022-01-04&quot;</td><td>509.34</td><td>10</td></tr><tr><td>&quot;water&quot;</td><td>&quot;Kelly Scott&quot;</td><td>&quot;Elizabeth Grant&quot;</td><td>&quot;2024-04-26&quot;</td><td>741.32</td><td>9</td></tr></tbody></table></div>"
      ],
      "text/plain": [
       "shape: (5, 6)\n",
       "┌─────────┬──────────────────┬─────────────────┬────────────┬────────────┬────────────┐\n",
       "│ product ┆ buyer            ┆ seller          ┆ date       ┆ sale_price ┆ units_sold │\n",
       "│ ---     ┆ ---              ┆ ---             ┆ ---        ┆ ---        ┆ ---        │\n",
       "│ str     ┆ str              ┆ str             ┆ str        ┆ f64        ┆ i64        │\n",
       "╞═════════╪══════════════════╪═════════════════╪════════════╪════════════╪════════════╡\n",
       "│ place   ┆ Michael Walton   ┆ Chris Ramirez   ┆ 2023-02-24 ┆ 668.17     ┆ 10         │\n",
       "│ final   ┆ Cassandra Hansen ┆ David Ray       ┆ 2021-12-12 ┆ 689.13     ┆ 8          │\n",
       "│ would   ┆ Brandon Anthony  ┆ Richard Ware    ┆ 2024-06-04 ┆ 744.26     ┆ 9          │\n",
       "│ figure  ┆ Samuel Jones     ┆ David Chambers  ┆ 2022-01-04 ┆ 509.34     ┆ 10         │\n",
       "│ water   ┆ Kelly Scott      ┆ Elizabeth Grant ┆ 2024-04-26 ┆ 741.32     ┆ 9          │\n",
       "└─────────┴──────────────────┴─────────────────┴────────────┴────────────┴────────────┘"
      ]
     },
     "execution_count": 19,
     "metadata": {},
     "output_type": "execute_result"
    }
   ],
   "source": [
    "# Selecting sales with a total greater than 5 thousand\n",
    "\n",
    "df.filter((pl.col('sale_price') * pl.col('units_sold')) > 5000).head()"
   ]
  },
  {
   "cell_type": "code",
   "execution_count": 20,
   "metadata": {},
   "outputs": [
    {
     "data": {
      "text/html": [
       "<div><style>\n",
       ".dataframe > thead > tr,\n",
       ".dataframe > tbody > tr {\n",
       "  text-align: right;\n",
       "  white-space: pre-wrap;\n",
       "}\n",
       "</style>\n",
       "<small>shape: (5, 6)</small><table border=\"1\" class=\"dataframe\"><thead><tr><th>product</th><th>buyer</th><th>seller</th><th>date</th><th>sale_price</th><th>units_sold</th></tr><tr><td>str</td><td>str</td><td>str</td><td>str</td><td>f64</td><td>i64</td></tr></thead><tbody><tr><td>&quot;phone&quot;</td><td>&quot;Brandon Anthony&quot;</td><td>&quot;Michael Reyes&quot;</td><td>&quot;2022-02-02&quot;</td><td>556.45</td><td>1</td></tr><tr><td>&quot;water&quot;</td><td>&quot;Kelly Scott&quot;</td><td>&quot;Elizabeth Grant&quot;</td><td>&quot;2024-04-26&quot;</td><td>741.32</td><td>9</td></tr><tr><td>&quot;water&quot;</td><td>&quot;Matthew Greene&quot;</td><td>&quot;Jesse Frye&quot;</td><td>&quot;2021-06-20&quot;</td><td>55.17</td><td>8</td></tr><tr><td>&quot;phone&quot;</td><td>&quot;Tracie Gonzales&quot;</td><td>&quot;Robert Gilbert&quot;</td><td>&quot;2021-11-02&quot;</td><td>175.94</td><td>5</td></tr><tr><td>&quot;water&quot;</td><td>&quot;Heather Wilkinson&quot;</td><td>&quot;Richard Ware&quot;</td><td>&quot;2022-08-14&quot;</td><td>561.87</td><td>2</td></tr></tbody></table></div>"
      ],
      "text/plain": [
       "shape: (5, 6)\n",
       "┌─────────┬───────────────────┬─────────────────┬────────────┬────────────┬────────────┐\n",
       "│ product ┆ buyer             ┆ seller          ┆ date       ┆ sale_price ┆ units_sold │\n",
       "│ ---     ┆ ---               ┆ ---             ┆ ---        ┆ ---        ┆ ---        │\n",
       "│ str     ┆ str               ┆ str             ┆ str        ┆ f64        ┆ i64        │\n",
       "╞═════════╪═══════════════════╪═════════════════╪════════════╪════════════╪════════════╡\n",
       "│ phone   ┆ Brandon Anthony   ┆ Michael Reyes   ┆ 2022-02-02 ┆ 556.45     ┆ 1          │\n",
       "│ water   ┆ Kelly Scott       ┆ Elizabeth Grant ┆ 2024-04-26 ┆ 741.32     ┆ 9          │\n",
       "│ water   ┆ Matthew Greene    ┆ Jesse Frye      ┆ 2021-06-20 ┆ 55.17      ┆ 8          │\n",
       "│ phone   ┆ Tracie Gonzales   ┆ Robert Gilbert  ┆ 2021-11-02 ┆ 175.94     ┆ 5          │\n",
       "│ water   ┆ Heather Wilkinson ┆ Richard Ware    ┆ 2022-08-14 ┆ 561.87     ┆ 2          │\n",
       "└─────────┴───────────────────┴─────────────────┴────────────┴────────────┴────────────┘"
      ]
     },
     "execution_count": 20,
     "metadata": {},
     "output_type": "execute_result"
    }
   ],
   "source": [
    "df.filter(pl.col('product').is_in(['water', 'phone'])).head()"
   ]
  },
  {
   "cell_type": "markdown",
   "metadata": {},
   "source": [
    "### Computatioin on the select context"
   ]
  },
  {
   "cell_type": "code",
   "execution_count": 21,
   "metadata": {},
   "outputs": [
    {
     "data": {
      "text/html": [
       "<div><style>\n",
       ".dataframe > thead > tr,\n",
       ".dataframe > tbody > tr {\n",
       "  text-align: right;\n",
       "  white-space: pre-wrap;\n",
       "}\n",
       "</style>\n",
       "<small>shape: (1, 1)</small><table border=\"1\" class=\"dataframe\"><thead><tr><th>product</th></tr><tr><td>u32</td></tr></thead><tbody><tr><td>50</td></tr></tbody></table></div>"
      ],
      "text/plain": [
       "shape: (1, 1)\n",
       "┌─────────┐\n",
       "│ product │\n",
       "│ ---     │\n",
       "│ u32     │\n",
       "╞═════════╡\n",
       "│ 50      │\n",
       "└─────────┘"
      ]
     },
     "execution_count": 21,
     "metadata": {},
     "output_type": "execute_result"
    }
   ],
   "source": [
    "# Number of unique items in the column\n",
    "\n",
    "df.select([\n",
    "    pl.col('product').n_unique()\n",
    "])"
   ]
  },
  {
   "cell_type": "code",
   "execution_count": 22,
   "metadata": {},
   "outputs": [
    {
     "data": {
      "text/html": [
       "<div><style>\n",
       ".dataframe > thead > tr,\n",
       ".dataframe > tbody > tr {\n",
       "  text-align: right;\n",
       "  white-space: pre-wrap;\n",
       "}\n",
       "</style>\n",
       "<small>shape: (1, 5)</small><table border=\"1\" class=\"dataframe\"><thead><tr><th>min</th><th>mean</th><th>median</th><th>max</th><th>std</th></tr><tr><td>f64</td><td>f64</td><td>f64</td><td>f64</td><td>f64</td></tr></thead><tbody><tr><td>10.0</td><td>504.953171</td><td>504.95</td><td>1000.0</td><td>285.77135</td></tr></tbody></table></div>"
      ],
      "text/plain": [
       "shape: (1, 5)\n",
       "┌──────┬────────────┬────────┬────────┬───────────┐\n",
       "│ min  ┆ mean       ┆ median ┆ max    ┆ std       │\n",
       "│ ---  ┆ ---        ┆ ---    ┆ ---    ┆ ---       │\n",
       "│ f64  ┆ f64        ┆ f64    ┆ f64    ┆ f64       │\n",
       "╞══════╪════════════╪════════╪════════╪═══════════╡\n",
       "│ 10.0 ┆ 504.953171 ┆ 504.95 ┆ 1000.0 ┆ 285.77135 │\n",
       "└──────┴────────────┴────────┴────────┴───────────┘"
      ]
     },
     "execution_count": 22,
     "metadata": {},
     "output_type": "execute_result"
    }
   ],
   "source": [
    "df.select([\n",
    "    pl.col('sale_price').min().alias('min'),\n",
    "    pl.col('sale_price').mean().alias('mean'),\n",
    "    pl.col('sale_price').median().alias('median'),\n",
    "    pl.col('sale_price').max().alias('max'),\n",
    "    pl.col('sale_price').std().alias('std'),\n",
    "])"
   ]
  },
  {
   "cell_type": "code",
   "execution_count": 23,
   "metadata": {},
   "outputs": [
    {
     "data": {
      "text/html": [
       "<div><style>\n",
       ".dataframe > thead > tr,\n",
       ".dataframe > tbody > tr {\n",
       "  text-align: right;\n",
       "  white-space: pre-wrap;\n",
       "}\n",
       "</style>\n",
       "<small>shape: (9, 2)</small><table border=\"1\" class=\"dataframe\"><thead><tr><th>statistic</th><th>sale_price</th></tr><tr><td>str</td><td>f64</td></tr></thead><tbody><tr><td>&quot;count&quot;</td><td>1e7</td></tr><tr><td>&quot;null_count&quot;</td><td>0.0</td></tr><tr><td>&quot;mean&quot;</td><td>504.953171</td></tr><tr><td>&quot;std&quot;</td><td>285.77135</td></tr><tr><td>&quot;min&quot;</td><td>10.0</td></tr><tr><td>&quot;25%&quot;</td><td>257.42</td></tr><tr><td>&quot;50%&quot;</td><td>504.95</td></tr><tr><td>&quot;75%&quot;</td><td>752.36</td></tr><tr><td>&quot;max&quot;</td><td>1000.0</td></tr></tbody></table></div>"
      ],
      "text/plain": [
       "shape: (9, 2)\n",
       "┌────────────┬────────────┐\n",
       "│ statistic  ┆ sale_price │\n",
       "│ ---        ┆ ---        │\n",
       "│ str        ┆ f64        │\n",
       "╞════════════╪════════════╡\n",
       "│ count      ┆ 1e7        │\n",
       "│ null_count ┆ 0.0        │\n",
       "│ mean       ┆ 504.953171 │\n",
       "│ std        ┆ 285.77135  │\n",
       "│ min        ┆ 10.0       │\n",
       "│ 25%        ┆ 257.42     │\n",
       "│ 50%        ┆ 504.95     │\n",
       "│ 75%        ┆ 752.36     │\n",
       "│ max        ┆ 1000.0     │\n",
       "└────────────┴────────────┘"
      ]
     },
     "execution_count": 23,
     "metadata": {},
     "output_type": "execute_result"
    }
   ],
   "source": [
    "# Compute describe at a series level\n",
    "\n",
    "df.select([\n",
    "    pl.col('sale_price')\n",
    "]).describe()"
   ]
  },
  {
   "cell_type": "code",
   "execution_count": 24,
   "metadata": {},
   "outputs": [
    {
     "data": {
      "text/html": [
       "<div><style>\n",
       ".dataframe > thead > tr,\n",
       ".dataframe > tbody > tr {\n",
       "  text-align: right;\n",
       "  white-space: pre-wrap;\n",
       "}\n",
       "</style>\n",
       "<small>shape: (10, 1)</small><table border=\"1\" class=\"dataframe\"><thead><tr><th>sale_price</th></tr><tr><td>f64</td></tr></thead><tbody><tr><td>473.44</td></tr><tr><td>23.59</td></tr><tr><td>347.78</td></tr><tr><td>447.93</td></tr><tr><td>458.44</td></tr><tr><td>301.3</td></tr><tr><td>575.57</td></tr><tr><td>422.01</td></tr><tr><td>516.71</td></tr><tr><td>836.77</td></tr></tbody></table></div>"
      ],
      "text/plain": [
       "shape: (10, 1)\n",
       "┌────────────┐\n",
       "│ sale_price │\n",
       "│ ---        │\n",
       "│ f64        │\n",
       "╞════════════╡\n",
       "│ 473.44     │\n",
       "│ 23.59      │\n",
       "│ 347.78     │\n",
       "│ 447.93     │\n",
       "│ 458.44     │\n",
       "│ 301.3      │\n",
       "│ 575.57     │\n",
       "│ 422.01     │\n",
       "│ 516.71     │\n",
       "│ 836.77     │\n",
       "└────────────┘"
      ]
     },
     "execution_count": 24,
     "metadata": {},
     "output_type": "execute_result"
    }
   ],
   "source": [
    "sale_price = df.select([\n",
    "    pl.col('sale_price')\n",
    "])\n",
    "\n",
    "sale_price.sample(10)"
   ]
  }
 ],
 "metadata": {
  "kernelspec": {
   "display_name": ".venv",
   "language": "python",
   "name": "python3"
  },
  "language_info": {
   "codemirror_mode": {
    "name": "ipython",
    "version": 3
   },
   "file_extension": ".py",
   "mimetype": "text/x-python",
   "name": "python",
   "nbconvert_exporter": "python",
   "pygments_lexer": "ipython3",
   "version": "3.12.8"
  }
 },
 "nbformat": 4,
 "nbformat_minor": 2
}
