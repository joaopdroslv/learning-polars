{
 "cells": [
  {
   "cell_type": "code",
   "execution_count": null,
   "metadata": {},
   "outputs": [],
   "source": [
    "!pip install polars"
   ]
  },
  {
   "cell_type": "code",
   "execution_count": 2,
   "metadata": {},
   "outputs": [],
   "source": [
    "import polars as pl\n",
    "import numpy as np"
   ]
  },
  {
   "cell_type": "markdown",
   "metadata": {},
   "source": [
    "### Reading our dataset (CSV file)"
   ]
  },
  {
   "cell_type": "code",
   "execution_count": 57,
   "metadata": {},
   "outputs": [],
   "source": [
    "df = pl.read_csv('../sales.csv')"
   ]
  },
  {
   "cell_type": "markdown",
   "metadata": {},
   "source": [
    "### Basic Operations"
   ]
  },
  {
   "cell_type": "code",
   "execution_count": 29,
   "metadata": {},
   "outputs": [
    {
     "data": {
      "text/plain": [
       "(10000000, 9)"
      ]
     },
     "execution_count": 29,
     "metadata": {},
     "output_type": "execute_result"
    }
   ],
   "source": [
    "# (rows amount, columns amount)\n",
    "df.shape  "
   ]
  },
  {
   "cell_type": "code",
   "execution_count": 30,
   "metadata": {},
   "outputs": [
    {
     "data": {
      "text/html": [
       "<div><style>\n",
       ".dataframe > thead > tr,\n",
       ".dataframe > tbody > tr {\n",
       "  text-align: right;\n",
       "  white-space: pre-wrap;\n",
       "}\n",
       "</style>\n",
       "<small>shape: (5, 9)</small><table border=\"1\" class=\"dataframe\"><thead><tr><th>product</th><th>buyer</th><th>buyer_phone</th><th>shipped_to</th><th>seller</th><th>seller_phone</th><th>date</th><th>sale_price</th><th>units_sold</th></tr><tr><td>str</td><td>str</td><td>str</td><td>str</td><td>str</td><td>str</td><td>str</td><td>f64</td><td>i64</td></tr></thead><tbody><tr><td>&quot;around&quot;</td><td>&quot;Sandra Bird&quot;</td><td>&quot;374-681-5363&quot;</td><td>&quot;PSC 2714, Box 5664\n",
       "APO AA 1886…</td><td>&quot;Kyle Nelson&quot;</td><td>&quot;(706)926-0394&quot;</td><td>&quot;2021-06-21&quot;</td><td>449.37</td><td>1</td></tr><tr><td>&quot;serious&quot;</td><td>&quot;Arthur Taylor&quot;</td><td>&quot;237.469.5581&quot;</td><td>&quot;1047 Taylor Inlet\n",
       "Woodsborough…</td><td>&quot;Douglas Watson&quot;</td><td>&quot;633-564-5015x617&quot;</td><td>&quot;2020-01-26&quot;</td><td>194.08</td><td>2</td></tr><tr><td>&quot;result&quot;</td><td>&quot;Jason Morales&quot;</td><td>&quot;822.549.7199&quot;</td><td>&quot;40260 Torres Crest\n",
       "Danielshire…</td><td>&quot;Elizabeth White&quot;</td><td>&quot;+1-703-666-4442x4670&quot;</td><td>&quot;2021-09-30&quot;</td><td>775.79</td><td>2</td></tr><tr><td>&quot;animal&quot;</td><td>&quot;Jeffrey Jones&quot;</td><td>&quot;001-455-680-8387&quot;</td><td>&quot;USNV Rojas\n",
       "FPO AA 01224&quot;</td><td>&quot;Anna Gallegos&quot;</td><td>&quot;699.796.0389x23951&quot;</td><td>&quot;2021-08-16&quot;</td><td>236.14</td><td>1</td></tr><tr><td>&quot;away&quot;</td><td>&quot;Jason Garner&quot;</td><td>&quot;001-592-491-8366&quot;</td><td>&quot;07338 Maureen Plaza Apt. 924\n",
       "M…</td><td>&quot;Elizabeth White&quot;</td><td>&quot;+1-703-666-4442x4670&quot;</td><td>&quot;2021-10-28&quot;</td><td>389.89</td><td>7</td></tr></tbody></table></div>"
      ],
      "text/plain": [
       "shape: (5, 9)\n",
       "┌─────────┬────────────┬───────────┬───────────┬───┬───────────┬───────────┬───────────┬───────────┐\n",
       "│ product ┆ buyer      ┆ buyer_pho ┆ shipped_t ┆ … ┆ seller_ph ┆ date      ┆ sale_pric ┆ units_sol │\n",
       "│ ---     ┆ ---        ┆ ne        ┆ o         ┆   ┆ one       ┆ ---       ┆ e         ┆ d         │\n",
       "│ str     ┆ str        ┆ ---       ┆ ---       ┆   ┆ ---       ┆ str       ┆ ---       ┆ ---       │\n",
       "│         ┆            ┆ str       ┆ str       ┆   ┆ str       ┆           ┆ f64       ┆ i64       │\n",
       "╞═════════╪════════════╪═══════════╪═══════════╪═══╪═══════════╪═══════════╪═══════════╪═══════════╡\n",
       "│ around  ┆ Sandra     ┆ 374-681-5 ┆ PSC 2714, ┆ … ┆ (706)926- ┆ 2021-06-2 ┆ 449.37    ┆ 1         │\n",
       "│         ┆ Bird       ┆ 363       ┆ Box 5664  ┆   ┆ 0394      ┆ 1         ┆           ┆           │\n",
       "│         ┆            ┆           ┆ APO AA    ┆   ┆           ┆           ┆           ┆           │\n",
       "│         ┆            ┆           ┆ 1886…     ┆   ┆           ┆           ┆           ┆           │\n",
       "│ serious ┆ Arthur     ┆ 237.469.5 ┆ 1047      ┆ … ┆ 633-564-5 ┆ 2020-01-2 ┆ 194.08    ┆ 2         │\n",
       "│         ┆ Taylor     ┆ 581       ┆ Taylor    ┆   ┆ 015x617   ┆ 6         ┆           ┆           │\n",
       "│         ┆            ┆           ┆ Inlet     ┆   ┆           ┆           ┆           ┆           │\n",
       "│         ┆            ┆           ┆ Woodsboro ┆   ┆           ┆           ┆           ┆           │\n",
       "│         ┆            ┆           ┆ ugh…      ┆   ┆           ┆           ┆           ┆           │\n",
       "│ result  ┆ Jason      ┆ 822.549.7 ┆ 40260     ┆ … ┆ +1-703-66 ┆ 2021-09-3 ┆ 775.79    ┆ 2         │\n",
       "│         ┆ Morales    ┆ 199       ┆ Torres    ┆   ┆ 6-4442x46 ┆ 0         ┆           ┆           │\n",
       "│         ┆            ┆           ┆ Crest     ┆   ┆ 70        ┆           ┆           ┆           │\n",
       "│         ┆            ┆           ┆ Danielshi ┆   ┆           ┆           ┆           ┆           │\n",
       "│         ┆            ┆           ┆ re…       ┆   ┆           ┆           ┆           ┆           │\n",
       "│ animal  ┆ Jeffrey    ┆ 001-455-6 ┆ USNV      ┆ … ┆ 699.796.0 ┆ 2021-08-1 ┆ 236.14    ┆ 1         │\n",
       "│         ┆ Jones      ┆ 80-8387   ┆ Rojas     ┆   ┆ 389x23951 ┆ 6         ┆           ┆           │\n",
       "│         ┆            ┆           ┆ FPO AA    ┆   ┆           ┆           ┆           ┆           │\n",
       "│         ┆            ┆           ┆ 01224     ┆   ┆           ┆           ┆           ┆           │\n",
       "│ away    ┆ Jason      ┆ 001-592-4 ┆ 07338     ┆ … ┆ +1-703-66 ┆ 2021-10-2 ┆ 389.89    ┆ 7         │\n",
       "│         ┆ Garner     ┆ 91-8366   ┆ Maureen   ┆   ┆ 6-4442x46 ┆ 8         ┆           ┆           │\n",
       "│         ┆            ┆           ┆ Plaza     ┆   ┆ 70        ┆           ┆           ┆           │\n",
       "│         ┆            ┆           ┆ Apt. 924  ┆   ┆           ┆           ┆           ┆           │\n",
       "│         ┆            ┆           ┆ M…        ┆   ┆           ┆           ┆           ┆           │\n",
       "└─────────┴────────────┴───────────┴───────────┴───┴───────────┴───────────┴───────────┴───────────┘"
      ]
     },
     "execution_count": 30,
     "metadata": {},
     "output_type": "execute_result"
    }
   ],
   "source": [
    "# Prints the header, column types and the first five rows\n",
    "df.head()  "
   ]
  },
  {
   "cell_type": "code",
   "execution_count": 32,
   "metadata": {},
   "outputs": [
    {
     "data": {
      "text/plain": [
       "[String, String, String, String, String, String, String, Float64, Int64]"
      ]
     },
     "execution_count": 32,
     "metadata": {},
     "output_type": "execute_result"
    }
   ],
   "source": [
    "# Prints a list with the column types in order\n",
    "df.dtypes  "
   ]
  },
  {
   "cell_type": "markdown",
   "metadata": {},
   "source": [
    "### Selecting and Filtering Data\n",
    "\n",
    "Here I'll do operations that are similar to the **SELECT** and **WHERE** commands in **SQL**."
   ]
  },
  {
   "cell_type": "code",
   "execution_count": 81,
   "metadata": {},
   "outputs": [
    {
     "name": "stdout",
     "output_type": "stream",
     "text": [
      "shape: (5, 3)\n",
      "┌─────────┬────────────┬────────────┐\n",
      "│ product ┆ date       ┆ sale_price │\n",
      "│ ---     ┆ ---        ┆ ---        │\n",
      "│ str     ┆ str        ┆ f64        │\n",
      "╞═════════╪════════════╪════════════╡\n",
      "│ around  ┆ 2021-06-21 ┆ 449.37     │\n",
      "│ serious ┆ 2020-01-26 ┆ 194.08     │\n",
      "│ result  ┆ 2021-09-30 ┆ 775.79     │\n",
      "│ animal  ┆ 2021-08-16 ┆ 236.14     │\n",
      "│ away    ┆ 2021-10-28 ┆ 389.89     │\n",
      "└─────────┴────────────┴────────────┘\n"
     ]
    }
   ],
   "source": [
    "# SQL SELECT type of operation. Just selecting columns\n",
    "result = df.select(['product', 'date', 'sale_price']).head()\n",
    "print(result)"
   ]
  },
  {
   "cell_type": "code",
   "execution_count": 113,
   "metadata": {},
   "outputs": [
    {
     "name": "stdout",
     "output_type": "stream",
     "text": [
      "shape: (10_000_000, 10)\n",
      "┌──────────┬────────────┬────────────┬───────────┬───┬───────────┬───────────┬───────────┬─────────┐\n",
      "│ product  ┆ buyer      ┆ buyer_phon ┆ shipped_t ┆ … ┆ date      ┆ sale_pric ┆ units_sol ┆ total   │\n",
      "│ ---      ┆ ---        ┆ e          ┆ o         ┆   ┆ ---       ┆ e         ┆ d         ┆ ---     │\n",
      "│ str      ┆ str        ┆ ---        ┆ ---       ┆   ┆ str       ┆ ---       ┆ ---       ┆ f64     │\n",
      "│          ┆            ┆ str        ┆ str       ┆   ┆           ┆ f64       ┆ i64       ┆         │\n",
      "╞══════════╪════════════╪════════════╪═══════════╪═══╪═══════════╪═══════════╪═══════════╪═════════╡\n",
      "│ Democrat ┆ Linda      ┆ +1-465-894 ┆ 06833     ┆ … ┆ 2024-01-1 ┆ 847.42    ┆ 5         ┆ 4237.1  │\n",
      "│          ┆ Bullock    ┆ -4725x9675 ┆ Jackson   ┆   ┆ 5         ┆           ┆           ┆         │\n",
      "│          ┆            ┆            ┆ Shoals    ┆   ┆           ┆           ┆           ┆         │\n",
      "│          ┆            ┆            ┆ Suite     ┆   ┆           ┆           ┆           ┆         │\n",
      "│          ┆            ┆            ┆ 676…      ┆   ┆           ┆           ┆           ┆         │\n",
      "│ Democrat ┆ Eric Nunez ┆ 819-554-96 ┆ 5371      ┆ … ┆ 2023-11-1 ┆ 795.38    ┆ 3         ┆ 2386.14 │\n",
      "│          ┆            ┆ 09         ┆ Mcdonald  ┆   ┆ 9         ┆           ┆           ┆         │\n",
      "│          ┆            ┆            ┆ Islands   ┆   ┆           ┆           ┆           ┆         │\n",
      "│          ┆            ┆            ┆ Apt. 449… ┆   ┆           ┆           ┆           ┆         │\n",
      "│ Democrat ┆ Theresa    ┆ 521-596-90 ┆ 90733     ┆ … ┆ 2020-06-2 ┆ 806.02    ┆ 2         ┆ 1612.04 │\n",
      "│          ┆ West       ┆ 54x65477   ┆ Eric      ┆   ┆ 7         ┆           ┆           ┆         │\n",
      "│          ┆            ┆            ┆ Lights    ┆   ┆           ┆           ┆           ┆         │\n",
      "│          ┆            ┆            ┆ Suite 797 ┆   ┆           ┆           ┆           ┆         │\n",
      "│          ┆            ┆            ┆ La…       ┆   ┆           ┆           ┆           ┆         │\n",
      "│ Democrat ┆ Janet      ┆ +1-392-396 ┆ 09613     ┆ … ┆ 2023-05-0 ┆ 780.46    ┆ 10        ┆ 7804.6  │\n",
      "│          ┆ Smith      ┆ -4476      ┆ Young     ┆   ┆ 1         ┆           ┆           ┆         │\n",
      "│          ┆            ┆            ┆ Mountains ┆   ┆           ┆           ┆           ┆         │\n",
      "│          ┆            ┆            ┆ Port Ale… ┆   ┆           ┆           ┆           ┆         │\n",
      "│ Democrat ┆ Leah       ┆ 309.222.70 ┆ 19867     ┆ … ┆ 2023-01-1 ┆ 833.75    ┆ 5         ┆ 4168.75 │\n",
      "│          ┆ Morrison   ┆ 08         ┆ James     ┆   ┆ 2         ┆           ┆           ┆         │\n",
      "│          ┆            ┆            ┆ Circles   ┆   ┆           ┆           ┆           ┆         │\n",
      "│          ┆            ┆            ┆ Suite 513 ┆   ┆           ┆           ┆           ┆         │\n",
      "│          ┆            ┆            ┆ …         ┆   ┆           ┆           ┆           ┆         │\n",
      "│ …        ┆ …          ┆ …          ┆ …         ┆ … ┆ …         ┆ …         ┆ …         ┆ …       │\n",
      "│ yourself ┆ Kimberly   ┆ +1-548-656 ┆ 30482     ┆ … ┆ 2022-12-0 ┆ 197.88    ┆ 7         ┆ 1385.16 │\n",
      "│          ┆ Williams   ┆ -8185x8007 ┆ Cisneros  ┆   ┆ 6         ┆           ┆           ┆         │\n",
      "│          ┆            ┆            ┆ Trail     ┆   ┆           ┆           ┆           ┆         │\n",
      "│          ┆            ┆            ┆ East      ┆   ┆           ┆           ┆           ┆         │\n",
      "│          ┆            ┆            ┆ Jeff…     ┆   ┆           ┆           ┆           ┆         │\n",
      "│ yourself ┆ Billy      ┆ 5823622952 ┆ 98655     ┆ … ┆ 2023-11-1 ┆ 195.39    ┆ 1         ┆ 195.39  │\n",
      "│          ┆ Richardson ┆            ┆ Blair     ┆   ┆ 9         ┆           ┆           ┆         │\n",
      "│          ┆            ┆            ┆ Views     ┆   ┆           ┆           ┆           ┆         │\n",
      "│          ┆            ┆            ┆ Apt. 868  ┆   ┆           ┆           ┆           ┆         │\n",
      "│          ┆            ┆            ┆ Wes…      ┆   ┆           ┆           ┆           ┆         │\n",
      "│ yourself ┆ Kathryn    ┆ 490.562.84 ┆ 10966     ┆ … ┆ 2022-07-2 ┆ 178.15    ┆ 4         ┆ 712.6   │\n",
      "│          ┆ Jackson    ┆ 77         ┆ Gilbert   ┆   ┆ 5         ┆           ┆           ┆         │\n",
      "│          ┆            ┆            ┆ Plaza     ┆   ┆           ┆           ┆           ┆         │\n",
      "│          ┆            ┆            ┆ New       ┆   ┆           ┆           ┆           ┆         │\n",
      "│          ┆            ┆            ┆ Diamon…   ┆   ┆           ┆           ┆           ┆         │\n",
      "│ yourself ┆ Megan      ┆ (229)323-2 ┆ 8916      ┆ … ┆ 2021-09-0 ┆ 203.07    ┆ 10        ┆ 2030.7  │\n",
      "│          ┆ Morgan     ┆ 073        ┆ Raymond   ┆   ┆ 3         ┆           ┆           ┆         │\n",
      "│          ┆            ┆            ┆ Streets   ┆   ┆           ┆           ┆           ┆         │\n",
      "│          ┆            ┆            ┆ Suite     ┆   ┆           ┆           ┆           ┆         │\n",
      "│          ┆            ┆            ┆ 746…      ┆   ┆           ┆           ┆           ┆         │\n",
      "│ yourself ┆ Amber      ┆ +1-371-325 ┆ 8389      ┆ … ┆ 2022-08-1 ┆ 179.1     ┆ 5         ┆ 895.5   │\n",
      "│          ┆ Brown      ┆ -2284x3202 ┆ Kristi    ┆   ┆ 2         ┆           ┆           ┆         │\n",
      "│          ┆            ┆            ┆ Prairie   ┆   ┆           ┆           ┆           ┆         │\n",
      "│          ┆            ┆            ┆ East      ┆   ┆           ┆           ┆           ┆         │\n",
      "│          ┆            ┆            ┆ Raymo…    ┆   ┆           ┆           ┆           ┆         │\n",
      "└──────────┴────────────┴────────────┴───────────┴───┴───────────┴───────────┴───────────┴─────────┘\n"
     ]
    }
   ],
   "source": [
    "# 'with_columns' keeps all the original columns and \n",
    "#   adds a new one 'total' calculating the total of each sales\n",
    "result = df.with_columns([\n",
    "    (pl.col('sale_price') * pl.col('units_sold')).alias('total')\n",
    "]).sort('product')\n",
    "print(result)"
   ]
  },
  {
   "cell_type": "code",
   "execution_count": 114,
   "metadata": {},
   "outputs": [
    {
     "name": "stdout",
     "output_type": "stream",
     "text": [
      "shape: (10_000_000, 2)\n",
      "┌──────────┬─────────┐\n",
      "│ product  ┆ total   │\n",
      "│ ---      ┆ ---     │\n",
      "│ str      ┆ f64     │\n",
      "╞══════════╪═════════╡\n",
      "│ Democrat ┆ 4237.1  │\n",
      "│ Democrat ┆ 2386.14 │\n",
      "│ Democrat ┆ 1612.04 │\n",
      "│ Democrat ┆ 7804.6  │\n",
      "│ Democrat ┆ 4168.75 │\n",
      "│ …        ┆ …       │\n",
      "│ yourself ┆ 1385.16 │\n",
      "│ yourself ┆ 195.39  │\n",
      "│ yourself ┆ 712.6   │\n",
      "│ yourself ┆ 2030.7  │\n",
      "│ yourself ┆ 895.5   │\n",
      "└──────────┴─────────┘\n"
     ]
    }
   ],
   "source": [
    "# Here, we select only the relevant columns and calculates the total of each sales\n",
    "result = df.select(\n",
    "    pl.col('product'), \n",
    "    (pl.col('sale_price') * pl.col('units_sold')).alias('total')\n",
    ").sort('product')\n",
    "print(result)\n"
   ]
  },
  {
   "cell_type": "code",
   "execution_count": null,
   "metadata": {},
   "outputs": [
    {
     "name": "stdout",
     "output_type": "stream",
     "text": [
      "shape: (250, 2)\n",
      "┌────────────┬──────────────┐\n",
      "│ product    ┆ total        │\n",
      "│ ---        ┆ ---          │\n",
      "│ str        ┆ str          │\n",
      "╞════════════╪══════════════╡\n",
      "│ Democrat   ┆ 183830389.88 │\n",
      "│ Republican ┆ 205137742.44 │\n",
      "│ TV         ┆ 64820230.5   │\n",
      "│ a          ┆ 208693462.96 │\n",
      "│ ability    ┆ 187194379.53 │\n",
      "│ …          ┆ …            │\n",
      "│ woman      ┆ 207755340.87 │\n",
      "│ world      ┆ 110082843.34 │\n",
      "│ write      ┆ 10849905.07  │\n",
      "│ wrong      ┆ 110659753.69 │\n",
      "│ yourself   ┆ 40724633.81  │\n",
      "└────────────┴──────────────┘\n"
     ]
    }
   ],
   "source": [
    "# Groups by product and calculates the total sales of each product\n",
    "result = df.group_by('product').agg([ \n",
    "    (pl.col('sale_price') * pl.col('units_sold')).sum().round(2).alias('total')\n",
    "]).sort('product')\n",
    "\n",
    "result = result.with_columns(pl.col('total').cast(pl.Utf8))\n",
    "\n",
    "print(result)"
   ]
  },
  {
   "cell_type": "code",
   "execution_count": null,
   "metadata": {},
   "outputs": [
    {
     "name": "stdout",
     "output_type": "stream",
     "text": [
      "shape: (457_000, 6)\n",
      "┌──────────┬────────────┬─────────────────┬─────────────────┬──────────────────┬───────────┐\n",
      "│ product  ┆ date       ┆ mean_sale_price ┆ mean_units_sold ┆ total_units_sold ┆ total     │\n",
      "│ ---      ┆ ---        ┆ ---             ┆ ---             ┆ ---              ┆ ---       │\n",
      "│ str      ┆ str        ┆ f64             ┆ f64             ┆ i64              ┆ str       │\n",
      "╞══════════╪════════════╪═════════════════╪═════════════════╪══════════════════╪═══════════╡\n",
      "│ Democrat ┆ 2020-01-01 ┆ 836.34          ┆ 5.89            ┆ 106              ┆ 88791.24  │\n",
      "│ Democrat ┆ 2020-01-02 ┆ 846.19          ┆ 5.45            ┆ 109              ┆ 92238.93  │\n",
      "│ Democrat ┆ 2020-01-03 ┆ 815.92          ┆ 6.05            ┆ 127              ┆ 103810.28 │\n",
      "│ Democrat ┆ 2020-01-04 ┆ 821.25          ┆ 5.3             ┆ 106              ┆ 87540.83  │\n",
      "│ Democrat ┆ 2020-01-05 ┆ 843.97          ┆ 5.09            ┆ 117              ┆ 97222.61  │\n",
      "│ …        ┆ …          ┆ …               ┆ …               ┆ …                ┆ …         │\n",
      "│ yourself ┆ 2024-12-28 ┆ 188.2           ┆ 5.52            ┆ 160              ┆ 30168.38  │\n",
      "│ yourself ┆ 2024-12-29 ┆ 182.65          ┆ 5.31            ┆ 69               ┆ 12711.83  │\n",
      "│ yourself ┆ 2024-12-30 ┆ 185.6           ┆ 6.33            ┆ 152              ┆ 27941.92  │\n",
      "│ yourself ┆ 2024-12-31 ┆ 183.99          ┆ 5.46            ┆ 142              ┆ 26216.65  │\n",
      "│ yourself ┆ 2025-01-01 ┆ 191.19          ┆ 5.24            ┆ 131              ┆ 25185.46  │\n",
      "└──────────┴────────────┴─────────────────┴─────────────────┴──────────────────┴───────────┘\n"
     ]
    }
   ],
   "source": [
    "# Groups by product and date and makes some calculations, \n",
    "#   like total_units_sold and total for each day\n",
    "result = df.group_by(['product', 'date']).agg([\n",
    "    pl.col('sale_price').mean().round(2).alias('mean_sale_price'),\n",
    "    pl.col('units_sold').mean().round(2).alias('mean_units_sold'),\n",
    "    pl.col('units_sold').sum().round(2).alias('total_units_sold'),\n",
    "    (pl.col('sale_price') * pl.col('units_sold')).sum().round(2).alias('total'),\n",
    "]).sort('product','date')\n",
    "\n",
    "result = result.with_columns(pl.col('total').cast(pl.Utf8))\n",
    "\n",
    "print(result)"
   ]
  },
  {
   "cell_type": "code",
   "execution_count": 78,
   "metadata": {},
   "outputs": [
    {
     "name": "stdout",
     "output_type": "stream",
     "text": [
      "shape: (1_959_582, 9)\n",
      "┌───────────┬───────────┬───────────┬───────────┬───┬───────────┬───────────┬───────────┬──────────┐\n",
      "│ product   ┆ buyer     ┆ buyer_pho ┆ shipped_t ┆ … ┆ seller_ph ┆ date      ┆ sale_pric ┆ units_so │\n",
      "│ ---       ┆ ---       ┆ ne        ┆ o         ┆   ┆ one       ┆ ---       ┆ e         ┆ ld       │\n",
      "│ str       ┆ str       ┆ ---       ┆ ---       ┆   ┆ ---       ┆ str       ┆ ---       ┆ ---      │\n",
      "│           ┆           ┆ str       ┆ str       ┆   ┆ str       ┆           ┆ f64       ┆ i64      │\n",
      "╞═══════════╪═══════════╪═══════════╪═══════════╪═══╪═══════════╪═══════════╪═══════════╪══════════╡\n",
      "│ environme ┆ Donald    ┆ 421.222.6 ┆ 5902 Joe  ┆ … ┆ (488)584- ┆ 2020-05-1 ┆ 724.4     ┆ 9        │\n",
      "│ ntal      ┆ Byrd      ┆ 555       ┆ Circles   ┆   ┆ 1495x723  ┆ 4         ┆           ┆          │\n",
      "│           ┆           ┆           ┆ Apt. 546  ┆   ┆           ┆           ┆           ┆          │\n",
      "│           ┆           ┆           ┆ Lake…     ┆   ┆           ┆           ┆           ┆          │\n",
      "│ else      ┆ Stephanie ┆ 648.661.6 ┆ 333 Neal  ┆ … ┆ 633-564-5 ┆ 2023-10-0 ┆ 660.22    ┆ 8        │\n",
      "│           ┆ Garcia    ┆ 245x7319  ┆ Parkway   ┆   ┆ 015x617   ┆ 3         ┆           ┆          │\n",
      "│           ┆           ┆           ┆ Lake      ┆   ┆           ┆           ┆           ┆          │\n",
      "│           ┆           ┆           ┆ Shawn, F… ┆   ┆           ┆           ┆           ┆          │\n",
      "│ populatio ┆ Scott     ┆ 633-747-2 ┆ 624 Sarah ┆ … ┆ +1-557-34 ┆ 2022-05-1 ┆ 807.84    ┆ 9        │\n",
      "│ n         ┆ Herring   ┆ 711x3224  ┆ Groves    ┆   ┆ 2-4071x43 ┆ 2         ┆           ┆          │\n",
      "│           ┆           ┆           ┆ Apt. 048  ┆   ┆ 045       ┆           ┆           ┆          │\n",
      "│           ┆           ┆           ┆ Port…     ┆   ┆           ┆           ┆           ┆          │\n",
      "│ lose      ┆ Scott     ┆ (807)492- ┆ 8457      ┆ … ┆ 516.266.7 ┆ 2023-11-3 ┆ 875.66    ┆ 8        │\n",
      "│           ┆ Jordan    ┆ 1889      ┆ Kenneth   ┆   ┆ 042x4944  ┆ 0         ┆           ┆          │\n",
      "│           ┆           ┆           ┆ Pines     ┆   ┆           ┆           ┆           ┆          │\n",
      "│           ┆           ┆           ┆ Suite 577 ┆   ┆           ┆           ┆           ┆          │\n",
      "│           ┆           ┆           ┆ R…        ┆   ┆           ┆           ┆           ┆          │\n",
      "│ collectio ┆ Willie    ┆ 414.263.5 ┆ 6278      ┆ … ┆ +1-589-67 ┆ 2023-12-2 ┆ 814.56    ┆ 10       │\n",
      "│ n         ┆ Braun     ┆ 914       ┆ Tiffany   ┆   ┆ 4-1209x09 ┆ 8         ┆           ┆          │\n",
      "│           ┆           ┆           ┆ Center    ┆   ┆ 0         ┆           ┆           ┆          │\n",
      "│           ┆           ┆           ┆ Timothymo ┆   ┆           ┆           ┆           ┆          │\n",
      "│           ┆           ┆           ┆ u…        ┆   ┆           ┆           ┆           ┆          │\n",
      "│ …         ┆ …         ┆ …         ┆ …         ┆ … ┆ …         ┆ …         ┆ …         ┆ …        │\n",
      "│ compare   ┆ Kevin     ┆ 806-616-2 ┆ 018 Avila ┆ … ┆ 410.821.2 ┆ 2024-04-2 ┆ 717.92    ┆ 7        │\n",
      "│           ┆ Hayden    ┆ 262       ┆ Passage   ┆   ┆ 583       ┆ 3         ┆           ┆          │\n",
      "│           ┆           ┆           ┆ Suite 028 ┆   ┆           ┆           ┆           ┆          │\n",
      "│           ┆           ┆           ┆ No…       ┆   ┆           ┆           ┆           ┆          │\n",
      "│ knowledge ┆ Christy   ┆ 795-706-5 ┆ 532       ┆ … ┆ 653-558-0 ┆ 2021-05-2 ┆ 798.91    ┆ 10       │\n",
      "│           ┆ Miller    ┆ 209       ┆ Jennifer  ┆   ┆ 621       ┆ 4         ┆           ┆          │\n",
      "│           ┆           ┆           ┆ Freeway   ┆   ┆           ┆           ┆           ┆          │\n",
      "│           ┆           ┆           ┆ Apt. 093  ┆   ┆           ┆           ┆           ┆          │\n",
      "│           ┆           ┆           ┆ …         ┆   ┆           ┆           ┆           ┆          │\n",
      "│ find      ┆ Jonathan  ┆ 374-385-7 ┆ 651       ┆ … ┆ 709-528-1 ┆ 2023-12-2 ┆ 974.94    ┆ 10       │\n",
      "│           ┆ Aguirre   ┆ 318x650   ┆ Parker    ┆   ┆ 229x62104 ┆ 0         ┆           ┆          │\n",
      "│           ┆           ┆           ┆ Course    ┆   ┆           ┆           ┆           ┆          │\n",
      "│           ┆           ┆           ┆ Suite 175 ┆   ┆           ┆           ┆           ┆          │\n",
      "│           ┆           ┆           ┆ We…       ┆   ┆           ┆           ┆           ┆          │\n",
      "│ notice    ┆ Brandon   ┆ +1-697-61 ┆ USNS Frey ┆ … ┆ 001-597-3 ┆ 2020-06-2 ┆ 557.98    ┆ 9        │\n",
      "│           ┆ Barker    ┆ 6-9605    ┆ FPO AP    ┆   ┆ 78-2058   ┆ 4         ┆           ┆          │\n",
      "│           ┆           ┆           ┆ 90241     ┆   ┆           ┆           ┆           ┆          │\n",
      "│ various   ┆ Andres    ┆ 532.403.8 ┆ 4638      ┆ … ┆ (352)521- ┆ 2022-02-2 ┆ 717.21    ┆ 8        │\n",
      "│           ┆ Hernandez ┆ 115       ┆ Ballard   ┆   ┆ 9180x896  ┆ 8         ┆           ┆          │\n",
      "│           ┆           ┆           ┆ Lake Apt. ┆   ┆           ┆           ┆           ┆          │\n",
      "│           ┆           ┆           ┆ 597       ┆   ┆           ┆           ┆           ┆          │\n",
      "│           ┆           ┆           ┆ Eas…      ┆   ┆           ┆           ┆           ┆          │\n",
      "└───────────┴───────────┴───────────┴───────────┴───┴───────────┴───────────┴───────────┴──────────┘\n"
     ]
    }
   ],
   "source": [
    "# Selecting sales with a total greater than 5 thousand\n",
    "result = df.filter((pl.col('sale_price') * pl.col('units_sold')) > 5000)\n",
    "print(result)"
   ]
  },
  {
   "cell_type": "code",
   "execution_count": 79,
   "metadata": {},
   "outputs": [
    {
     "name": "stdout",
     "output_type": "stream",
     "text": [
      "shape: (1, 1)\n",
      "┌─────────┐\n",
      "│ product │\n",
      "│ ---     │\n",
      "│ u32     │\n",
      "╞═════════╡\n",
      "│ 250     │\n",
      "└─────────┘\n"
     ]
    }
   ],
   "source": [
    "# Number of unique items in the column\n",
    "result = df.select([\n",
    "    pl.col('product').n_unique()\n",
    "])\n",
    "print(result)"
   ]
  },
  {
   "cell_type": "code",
   "execution_count": 109,
   "metadata": {},
   "outputs": [
    {
     "name": "stdout",
     "output_type": "stream",
     "text": [
      "shape: (250, 2)\n",
      "┌────────────┬────────────┐\n",
      "│ product    ┆ times_sold │\n",
      "│ ---        ┆ ---        │\n",
      "│ str        ┆ u32        │\n",
      "╞════════════╪════════════╡\n",
      "│ huge       ┆ 39700      │\n",
      "│ man        ┆ 39990      │\n",
      "│ election   ┆ 39814      │\n",
      "│ determine  ┆ 39955      │\n",
      "│ concern    ┆ 39952      │\n",
      "│ …          ┆ …          │\n",
      "│ common     ┆ 40328      │\n",
      "│ film       ┆ 39746      │\n",
      "│ thing      ┆ 40120      │\n",
      "│ population ┆ 40130      │\n",
      "│ knowledge  ┆ 39963      │\n",
      "└────────────┴────────────┘\n"
     ]
    }
   ],
   "source": [
    "# How many times a product was sold\n",
    "result = df.group_by('product').agg([\n",
    "    pl.col('product').count().alias('times_sold')\n",
    "])\n",
    "print(result)"
   ]
  },
  {
   "cell_type": "code",
   "execution_count": 112,
   "metadata": {},
   "outputs": [
    {
     "name": "stdout",
     "output_type": "stream",
     "text": [
      "shape: (250, 6)\n",
      "┌─────────────┬────────┬────────────┬─────────┬─────────┬───────────┐\n",
      "│ product     ┆ min    ┆ mean       ┆ median  ┆ max     ┆ std       │\n",
      "│ ---         ┆ ---    ┆ ---        ┆ ---     ┆ ---     ┆ ---       │\n",
      "│ str         ┆ f64    ┆ f64        ┆ f64     ┆ f64     ┆ f64       │\n",
      "╞═════════════╪════════╪════════════╪═════════╪═════════╪═══════════╡\n",
      "│ anything    ┆ 181.42 ┆ 201.660576 ┆ 201.75  ┆ 221.74  ┆ 11.634656 │\n",
      "│ hold        ┆ 647.91 ┆ 719.812877 ┆ 719.97  ┆ 791.88  ┆ 41.651305 │\n",
      "│ item        ┆ 748.5  ┆ 831.843318 ┆ 832.15  ┆ 914.82  ┆ 48.207918 │\n",
      "│ traditional ┆ 607.91 ┆ 675.536333 ┆ 675.76  ┆ 742.99  ┆ 38.937412 │\n",
      "│ reflect     ┆ 482.99 ┆ 536.775105 ┆ 536.71  ┆ 590.31  ┆ 31.061422 │\n",
      "│ …           ┆ …      ┆ …          ┆ …       ┆ …       ┆ …         │\n",
      "│ nation      ┆ 579.74 ┆ 644.568121 ┆ 644.895 ┆ 708.56  ┆ 37.147092 │\n",
      "│ head        ┆ 821.83 ┆ 913.635801 ┆ 914.03  ┆ 1004.45 ┆ 52.706526 │\n",
      "│ low         ┆ 222.68 ┆ 247.551465 ┆ 247.56  ┆ 272.16  ┆ 14.279072 │\n",
      "│ according   ┆ 760.03 ┆ 844.825166 ┆ 844.98  ┆ 928.91  ┆ 48.67417  │\n",
      "│ performance ┆ 427.65 ┆ 475.195797 ┆ 475.02  ┆ 522.69  ┆ 27.494413 │\n",
      "└─────────────┴────────┴────────────┴─────────┴─────────┴───────────┘\n"
     ]
    }
   ],
   "source": [
    "# min, med, max, avg selling price of each product\n",
    "result = df.group_by('product').agg([\n",
    "    pl.col('sale_price').min().alias('min'),\n",
    "    pl.col('sale_price').mean().alias('mean'),\n",
    "    pl.col('sale_price').median().alias('median'),\n",
    "    pl.col('sale_price').max().alias('max'),\n",
    "    pl.col('sale_price').std().alias('std'),\n",
    "])\n",
    "print(result)"
   ]
  },
  {
   "cell_type": "code",
   "execution_count": 80,
   "metadata": {},
   "outputs": [
    {
     "name": "stdout",
     "output_type": "stream",
     "text": [
      "shape: (9, 2)\n",
      "┌────────────┬────────────┐\n",
      "│ statistic  ┆ sale_price │\n",
      "│ ---        ┆ ---        │\n",
      "│ str        ┆ f64        │\n",
      "╞════════════╪════════════╡\n",
      "│ count      ┆ 1e7        │\n",
      "│ null_count ┆ 0.0        │\n",
      "│ mean       ┆ 527.465039 │\n",
      "│ std        ┆ 291.322533 │\n",
      "│ min        ┆ 10.05      │\n",
      "│ 25%        ┆ 275.65     │\n",
      "│ 50%        ┆ 526.13     │\n",
      "│ 75%        ┆ 782.35     │\n",
      "│ max        ┆ 1096.57    │\n",
      "└────────────┴────────────┘\n"
     ]
    }
   ],
   "source": [
    "# Compute describe at a series level\n",
    "result = df.select([\n",
    "    pl.col('sale_price')\n",
    "]).describe()\n",
    "print(result)"
   ]
  }
 ],
 "metadata": {
  "kernelspec": {
   "display_name": ".venv",
   "language": "python",
   "name": "python3"
  },
  "language_info": {
   "codemirror_mode": {
    "name": "ipython",
    "version": 3
   },
   "file_extension": ".py",
   "mimetype": "text/x-python",
   "name": "python",
   "nbconvert_exporter": "python",
   "pygments_lexer": "ipython3",
   "version": "3.12.8"
  }
 },
 "nbformat": 4,
 "nbformat_minor": 2
}
