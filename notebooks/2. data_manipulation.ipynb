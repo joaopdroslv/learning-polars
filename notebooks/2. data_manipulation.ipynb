{
 "cells": [
  {
   "cell_type": "code",
   "execution_count": null,
   "metadata": {},
   "outputs": [],
   "source": [
    "!pip install polars"
   ]
  },
  {
   "cell_type": "code",
   "execution_count": 1,
   "metadata": {},
   "outputs": [],
   "source": [
    "import polars as pl"
   ]
  },
  {
   "cell_type": "code",
   "execution_count": 35,
   "metadata": {},
   "outputs": [],
   "source": [
    "df = pl.DataFrame({\n",
    "    'name': ['Alice', 'Bob', 'Charlie'],\n",
    "    'age': [25, 30, 35],\n",
    "    'city': ['New York', 'Los Angeles', 'Chicago']\n",
    "})"
   ]
  },
  {
   "cell_type": "markdown",
   "metadata": {},
   "source": [
    "### 1. Selecting and Filtering Columns"
   ]
  },
  {
   "cell_type": "markdown",
   "metadata": {},
   "source": [
    "### Selecting Columns (`select`)\n",
    "In Polars, you can select specific columns from a DataFrame using the `select` method. This allows you to extract a subset of the DataFrame.\n",
    "\n",
    "**Example: Selecting Specific Columns**"
   ]
  },
  {
   "cell_type": "code",
   "execution_count": 22,
   "metadata": {},
   "outputs": [
    {
     "name": "stdout",
     "output_type": "stream",
     "text": [
      "shape: (3, 2)\n",
      "┌─────────┬─────┐\n",
      "│ name    ┆ age │\n",
      "│ ---     ┆ --- │\n",
      "│ str     ┆ i64 │\n",
      "╞═════════╪═════╡\n",
      "│ Alice   ┆ 25  │\n",
      "│ Bob     ┆ 30  │\n",
      "│ Charlie ┆ 35  │\n",
      "└─────────┴─────┘\n"
     ]
    }
   ],
   "source": [
    "# Select the 'name' and 'age' columns\n",
    "selected_df = df.select(['name', 'age'])\n",
    "print(selected_df)"
   ]
  },
  {
   "cell_type": "markdown",
   "metadata": {},
   "source": [
    "### Filtering Rows (`filter`)\n",
    "You can filter rows in a DataFrame by applying conditions using the `filter` method.\n",
    "\n",
    "**Example: Filtering Rows**"
   ]
  },
  {
   "cell_type": "code",
   "execution_count": 21,
   "metadata": {},
   "outputs": [
    {
     "name": "stdout",
     "output_type": "stream",
     "text": [
      "shape: (1, 5)\n",
      "┌─────────┬─────┬─────────┬────────────┬───────────┐\n",
      "│ name    ┆ age ┆ city    ┆ double_age ┆ age_group │\n",
      "│ ---     ┆ --- ┆ ---     ┆ ---        ┆ ---       │\n",
      "│ str     ┆ i64 ┆ str     ┆ i64        ┆ i64       │\n",
      "╞═════════╪═════╪═════════╪════════════╪═══════════╡\n",
      "│ Charlie ┆ 35  ┆ Chicago ┆ 70         ┆ 30        │\n",
      "└─────────┴─────┴─────────┴────────────┴───────────┘\n"
     ]
    }
   ],
   "source": [
    "# Filter rows where age is greater than 30\n",
    "filtered_df = df.filter(pl.col('age') > 30)\n",
    "print(filtered_df)"
   ]
  },
  {
   "cell_type": "markdown",
   "metadata": {},
   "source": [
    "### 2. Expressions in Polars\n",
    "Polars allows for efficient data transformations using expressions, which let you manipulate data within columns.\n",
    "\n",
    "Adding or Modifying Columns (`with_columns` and `mutate`)\n",
    "You can create new columns or modify existing ones using expressions. The `with_columns` or `mutate` method allows you to apply transformations."
   ]
  },
  {
   "cell_type": "markdown",
   "metadata": {},
   "source": [
    "**Example: Creating a New Column**"
   ]
  },
  {
   "cell_type": "code",
   "execution_count": 20,
   "metadata": {},
   "outputs": [
    {
     "name": "stdout",
     "output_type": "stream",
     "text": [
      "shape: (3, 5)\n",
      "┌─────────┬─────┬─────────────┬────────────┬───────────┐\n",
      "│ name    ┆ age ┆ city        ┆ double_age ┆ age_group │\n",
      "│ ---     ┆ --- ┆ ---         ┆ ---        ┆ ---       │\n",
      "│ str     ┆ i64 ┆ str         ┆ i64        ┆ i64       │\n",
      "╞═════════╪═════╪═════════════╪════════════╪═══════════╡\n",
      "│ Alice   ┆ 25  ┆ New York    ┆ 50         ┆ 20        │\n",
      "│ Bob     ┆ 30  ┆ Los Angeles ┆ 60         ┆ 30        │\n",
      "│ Charlie ┆ 35  ┆ Chicago     ┆ 70         ┆ 30        │\n",
      "└─────────┴─────┴─────────────┴────────────┴───────────┘\n"
     ]
    }
   ],
   "source": [
    "# Add a new column 'double_age' by multiplying 'age' by 2\n",
    "df = df.with_columns((pl.col('age') * 2).alias('double_age'))\n",
    "print(df)"
   ]
  },
  {
   "cell_type": "markdown",
   "metadata": {},
   "source": [
    "**Explanation:**\n",
    "\n",
    "We use `pl.col(\"age\")` to refer to the `age` column and multiply it by 2 to create a new column called `double_age`."
   ]
  },
  {
   "cell_type": "markdown",
   "metadata": {},
   "source": [
    "**Mutate**\n",
    "\n",
    "The `mutate` method is very similar to `with_columns`, but it's often used for more complex transformations."
   ]
  },
  {
   "cell_type": "code",
   "execution_count": 30,
   "metadata": {},
   "outputs": [
    {
     "name": "stdout",
     "output_type": "stream",
     "text": [
      "shape: (3, 5)\n",
      "┌─────────┬─────┬─────────────┬────────────┬───────────┐\n",
      "│ name    ┆ age ┆ city        ┆ double_age ┆ age_group │\n",
      "│ ---     ┆ --- ┆ ---         ┆ ---        ┆ ---       │\n",
      "│ str     ┆ i64 ┆ str         ┆ i64        ┆ i64       │\n",
      "╞═════════╪═════╪═════════════╪════════════╪═══════════╡\n",
      "│ Alice   ┆ 25  ┆ New York    ┆ 50         ┆ 20        │\n",
      "│ Bob     ┆ 30  ┆ Los Angeles ┆ 60         ┆ 30        │\n",
      "│ Charlie ┆ 35  ┆ Chicago     ┆ 70         ┆ 30        │\n",
      "└─────────┴─────┴─────────────┴────────────┴───────────┘\n"
     ]
    }
   ],
   "source": [
    "# Mutate 'age' to make it an integer age group (e.g., 20-29 -> '20s')\n",
    "df = df.with_columns((pl.col('age') // 10 * 10).alias('age_group'))\n",
    "print(df)"
   ]
  },
  {
   "cell_type": "markdown",
   "metadata": {},
   "source": [
    "**Alias**\n",
    "\n",
    "The `alias` method is used to rename columns in expressions. It helps when you want to create a new column name after applying an expression."
   ]
  },
  {
   "cell_type": "code",
   "execution_count": 31,
   "metadata": {},
   "outputs": [
    {
     "name": "stdout",
     "output_type": "stream",
     "text": [
      "shape: (3, 5)\n",
      "┌─────────┬─────┬─────────────┬────────────┬───────────┐\n",
      "│ name    ┆ age ┆ city        ┆ double_age ┆ age_group │\n",
      "│ ---     ┆ --- ┆ ---         ┆ ---        ┆ ---       │\n",
      "│ str     ┆ i64 ┆ str         ┆ i64        ┆ i64       │\n",
      "╞═════════╪═════╪═════════════╪════════════╪═══════════╡\n",
      "│ Alice   ┆ 25  ┆ New York    ┆ 50         ┆ 20        │\n",
      "│ Bob     ┆ 30  ┆ Los Angeles ┆ 60         ┆ 30        │\n",
      "│ Charlie ┆ 35  ┆ Chicago     ┆ 70         ┆ 30        │\n",
      "└─────────┴─────┴─────────────┴────────────┴───────────┘\n"
     ]
    }
   ],
   "source": [
    "# Create a new column 'double_age' and rename it using 'alias'\n",
    "df = df.with_columns((pl.col('age') * 2).alias('double_age'))\n",
    "print(df)"
   ]
  },
  {
   "cell_type": "markdown",
   "metadata": {},
   "source": [
    "### 3. Operations with LazyFrames (Lazy Execution)\n",
    "Lazy execution allows you to build a sequence of transformations that will only be executed when you explicitly ask for the result (e.g., `with collect()`).\n",
    "\n",
    "**Why LazyFrames?**\n",
    "\n",
    "LazyFrames are useful for performance optimization, especially with large datasets. The operations are not executed immediately, but are optimized and then run together."
   ]
  },
  {
   "cell_type": "markdown",
   "metadata": {},
   "source": [
    "**Creating a LazyFrame**\n",
    "\n",
    "You can create a **LazyFrame** from a `DataFrame` by calling `.lazy()`."
   ]
  },
  {
   "cell_type": "code",
   "execution_count": 33,
   "metadata": {},
   "outputs": [
    {
     "name": "stdout",
     "output_type": "stream",
     "text": [
      "shape: (1, 2)\n",
      "┌─────────┬────────────┐\n",
      "│ name    ┆ double_age │\n",
      "│ ---     ┆ ---        │\n",
      "│ str     ┆ i64        │\n",
      "╞═════════╪════════════╡\n",
      "│ Charlie ┆ 70         │\n",
      "└─────────┴────────────┘\n"
     ]
    }
   ],
   "source": [
    "# Convert the DataFrame into a LazyFrame\n",
    "lazy_df = df.lazy()\n",
    "\n",
    "# Perform multiple transformations on the LazyFrame\n",
    "result = lazy_df.filter(pl.col('age') > 30).select(['name', 'double_age'])\n",
    "\n",
    "# Trigger execution by collecting the results\n",
    "final_result = result.collect()\n",
    "print(final_result)"
   ]
  },
  {
   "cell_type": "markdown",
   "metadata": {},
   "source": [
    "**Explanation:**\n",
    "\n",
    "- A `LazyFrame` is created by calling `.lazy()` on a `DataFrame`. Then we apply transformations (filter and select) to it.\n",
    "- The actual execution occurs only when `collect()` is called. This allows Polars to optimize the execution plan, improving performance.\n"
   ]
  }
 ],
 "metadata": {
  "kernelspec": {
   "display_name": ".venv",
   "language": "python",
   "name": "python3"
  },
  "language_info": {
   "codemirror_mode": {
    "name": "ipython",
    "version": 3
   },
   "file_extension": ".py",
   "mimetype": "text/x-python",
   "name": "python",
   "nbconvert_exporter": "python",
   "pygments_lexer": "ipython3",
   "version": "3.12.8"
  }
 },
 "nbformat": 4,
 "nbformat_minor": 2
}
