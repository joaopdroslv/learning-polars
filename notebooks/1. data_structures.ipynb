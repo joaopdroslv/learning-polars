{
 "cells": [
  {
   "cell_type": "markdown",
   "metadata": {},
   "source": [
    "### Polars Data Structures: `DataFrame` and `Series`\n",
    "\n",
    "`DataFrame`\n",
    "\n",
    "A `DataFrame` in Polars is a 2D table structure, similar to Pandas. It consists of rows and columns, where each column is a `Series`."
   ]
  },
  {
   "cell_type": "code",
   "execution_count": null,
   "metadata": {},
   "outputs": [],
   "source": [
    "!pip install polars"
   ]
  },
  {
   "cell_type": "code",
   "execution_count": 2,
   "metadata": {},
   "outputs": [],
   "source": [
    "import polars as pl"
   ]
  },
  {
   "cell_type": "markdown",
   "metadata": {},
   "source": [
    "### Creating a DataFrame\n",
    "\n",
    "A `DataFrame` in Polars is a 2D table structure."
   ]
  },
  {
   "cell_type": "code",
   "execution_count": 3,
   "metadata": {},
   "outputs": [
    {
     "name": "stdout",
     "output_type": "stream",
     "text": [
      "shape: (3, 3)\n",
      "┌─────────┬─────┬─────────────┐\n",
      "│ name    ┆ age ┆ city        │\n",
      "│ ---     ┆ --- ┆ ---         │\n",
      "│ str     ┆ i64 ┆ str         │\n",
      "╞═════════╪═════╪═════════════╡\n",
      "│ Alice   ┆ 25  ┆ New York    │\n",
      "│ Bob     ┆ 30  ┆ Los Angeles │\n",
      "│ Charlie ┆ 35  ┆ Chicago     │\n",
      "└─────────┴─────┴─────────────┘\n"
     ]
    },
    {
     "data": {
      "text/html": [
       "<div><style>\n",
       ".dataframe > thead > tr,\n",
       ".dataframe > tbody > tr {\n",
       "  text-align: right;\n",
       "  white-space: pre-wrap;\n",
       "}\n",
       "</style>\n",
       "<small>shape: (3, 3)</small><table border=\"1\" class=\"dataframe\"><thead><tr><th>name</th><th>age</th><th>city</th></tr><tr><td>str</td><td>i64</td><td>str</td></tr></thead><tbody><tr><td>&quot;Alice&quot;</td><td>25</td><td>&quot;New York&quot;</td></tr><tr><td>&quot;Bob&quot;</td><td>30</td><td>&quot;Los Angeles&quot;</td></tr><tr><td>&quot;Charlie&quot;</td><td>35</td><td>&quot;Chicago&quot;</td></tr></tbody></table></div>"
      ],
      "text/plain": [
       "shape: (3, 3)\n",
       "┌─────────┬─────┬─────────────┐\n",
       "│ name    ┆ age ┆ city        │\n",
       "│ ---     ┆ --- ┆ ---         │\n",
       "│ str     ┆ i64 ┆ str         │\n",
       "╞═════════╪═════╪═════════════╡\n",
       "│ Alice   ┆ 25  ┆ New York    │\n",
       "│ Bob     ┆ 30  ┆ Los Angeles │\n",
       "│ Charlie ┆ 35  ┆ Chicago     │\n",
       "└─────────┴─────┴─────────────┘"
      ]
     },
     "execution_count": 3,
     "metadata": {},
     "output_type": "execute_result"
    }
   ],
   "source": [
    "# Creating a DataFrame from a dictionary\n",
    "df = pl.DataFrame({\n",
    "    'name': ['Alice', 'Bob', 'Charlie'],\n",
    "    'age': [25, 30, 35],\n",
    "    'city': ['New York', 'Los Angeles', 'Chicago']\n",
    "})\n",
    "print(df)\n",
    "\n",
    "# OR\n",
    "\n",
    "df.head()"
   ]
  },
  {
   "cell_type": "markdown",
   "metadata": {},
   "source": [
    "### Creating a Series\n",
    "\n",
    "A `Series` is a single column of data within a DataFrame."
   ]
  },
  {
   "cell_type": "code",
   "execution_count": 4,
   "metadata": {},
   "outputs": [
    {
     "name": "stdout",
     "output_type": "stream",
     "text": [
      "shape: (3,)\n",
      "Series: 'age' [i64]\n",
      "[\n",
      "\t25\n",
      "\t30\n",
      "\t35\n",
      "]\n"
     ]
    },
    {
     "data": {
      "text/html": [
       "<div><style>\n",
       ".dataframe > thead > tr,\n",
       ".dataframe > tbody > tr {\n",
       "  text-align: right;\n",
       "  white-space: pre-wrap;\n",
       "}\n",
       "</style>\n",
       "<small>shape: (3,)</small><table border=\"1\" class=\"dataframe\"><thead><tr><th>age</th></tr><tr><td>i64</td></tr></thead><tbody><tr><td>25</td></tr><tr><td>30</td></tr><tr><td>35</td></tr></tbody></table></div>"
      ],
      "text/plain": [
       "shape: (3,)\n",
       "Series: 'age' [i64]\n",
       "[\n",
       "\t25\n",
       "\t30\n",
       "\t35\n",
       "]"
      ]
     },
     "execution_count": 4,
     "metadata": {},
     "output_type": "execute_result"
    }
   ],
   "source": [
    "# Create a Series from a list\n",
    "series = pl.Series('age', [25, 30, 35])\n",
    "print(series)\n",
    "\n",
    "# OR\n",
    "\n",
    "series.head()"
   ]
  }
 ],
 "metadata": {
  "kernelspec": {
   "display_name": ".venv",
   "language": "python",
   "name": "python3"
  },
  "language_info": {
   "codemirror_mode": {
    "name": "ipython",
    "version": 3
   },
   "file_extension": ".py",
   "mimetype": "text/x-python",
   "name": "python",
   "nbconvert_exporter": "python",
   "pygments_lexer": "ipython3",
   "version": "3.12.8"
  }
 },
 "nbformat": 4,
 "nbformat_minor": 2
}
