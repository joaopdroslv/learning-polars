{
 "cells": [
  {
   "cell_type": "markdown",
   "metadata": {},
   "source": [
    "### Polars Data Structures: `DataFrame` and `Series`\n",
    "\n",
    "`DataFrame`\n",
    "\n",
    "A `DataFrame` in Polars is a 2D table structure, similar to Pandas. It consists of rows and columns, where each column is a `Series`."
   ]
  },
  {
   "cell_type": "code",
   "execution_count": null,
   "metadata": {},
   "outputs": [],
   "source": [
    "!pip install polars"
   ]
  },
  {
   "cell_type": "code",
   "execution_count": 3,
   "metadata": {},
   "outputs": [],
   "source": [
    "import polars as pl"
   ]
  },
  {
   "cell_type": "markdown",
   "metadata": {},
   "source": [
    "### Creating a DataFrame\n",
    "\n",
    "A `DataFrame` in Polars is a 2D table structure."
   ]
  },
  {
   "cell_type": "code",
   "execution_count": 7,
   "metadata": {},
   "outputs": [
    {
     "name": "stdout",
     "output_type": "stream",
     "text": [
      "shape: (3, 3)\n",
      "┌─────────┬─────┬─────────────┐\n",
      "│ name    ┆ age ┆ city        │\n",
      "│ ---     ┆ --- ┆ ---         │\n",
      "│ str     ┆ i64 ┆ str         │\n",
      "╞═════════╪═════╪═════════════╡\n",
      "│ Alice   ┆ 25  ┆ New York    │\n",
      "│ Bob     ┆ 30  ┆ Los Angeles │\n",
      "│ Charlie ┆ 35  ┆ Chicago     │\n",
      "└─────────┴─────┴─────────────┘\n"
     ]
    }
   ],
   "source": [
    "# Creating a DataFrame from a dictionary\n",
    "df = pl.DataFrame({\n",
    "    'name': ['Alice', 'Bob', 'Charlie'],\n",
    "    'age': [25, 30, 35],\n",
    "    'city': ['New York', 'Los Angeles', 'Chicago']\n",
    "})\n",
    "print(df)"
   ]
  },
  {
   "cell_type": "markdown",
   "metadata": {},
   "source": [
    "### Creating a Series\n",
    "\n",
    "A `Series` is a single column of data within a DataFrame."
   ]
  },
  {
   "cell_type": "code",
   "execution_count": 8,
   "metadata": {},
   "outputs": [
    {
     "name": "stdout",
     "output_type": "stream",
     "text": [
      "shape: (3,)\n",
      "Series: 'age' [i64]\n",
      "[\n",
      "\t25\n",
      "\t30\n",
      "\t35\n",
      "]\n"
     ]
    }
   ],
   "source": [
    "# Create a Series from a list\n",
    "series = pl.Series('age', [25, 30, 35])\n",
    "print(series)"
   ]
  }
 ],
 "metadata": {
  "kernelspec": {
   "display_name": ".venv",
   "language": "python",
   "name": "python3"
  },
  "language_info": {
   "codemirror_mode": {
    "name": "ipython",
    "version": 3
   },
   "file_extension": ".py",
   "mimetype": "text/x-python",
   "name": "python",
   "nbconvert_exporter": "python",
   "pygments_lexer": "ipython3",
   "version": "3.12.8"
  }
 },
 "nbformat": 4,
 "nbformat_minor": 2
}
